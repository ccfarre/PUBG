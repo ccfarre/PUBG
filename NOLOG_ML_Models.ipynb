{
 "cells": [
  {
   "cell_type": "code",
   "execution_count": 1,
   "metadata": {},
   "outputs": [],
   "source": [
    "import pandas as pd\n",
    "import numpy as np\n",
    "import os\n",
    "import math"
   ]
  },
  {
   "cell_type": "code",
   "execution_count": 2,
   "metadata": {},
   "outputs": [],
   "source": [
    "df = pd.read_csv('final_csvs/all_risk_df_ordered_no_log.csv', index_col=0)"
   ]
  },
  {
   "cell_type": "code",
   "execution_count": 3,
   "metadata": {},
   "outputs": [],
   "source": [
    "df = df.fillna(0)"
   ]
  },
  {
   "cell_type": "code",
   "execution_count": 4,
   "metadata": {},
   "outputs": [],
   "source": [
    "df = df.rename({'ranking_y':'ranking'}, axis=1)"
   ]
  },
  {
   "cell_type": "code",
   "execution_count": 5,
   "metadata": {},
   "outputs": [
    {
     "data": {
      "text/html": [
       "<div>\n",
       "<style scoped>\n",
       "    .dataframe tbody tr th:only-of-type {\n",
       "        vertical-align: middle;\n",
       "    }\n",
       "\n",
       "    .dataframe tbody tr th {\n",
       "        vertical-align: top;\n",
       "    }\n",
       "\n",
       "    .dataframe thead th {\n",
       "        text-align: right;\n",
       "    }\n",
       "</style>\n",
       "<table border=\"1\" class=\"dataframe\">\n",
       "  <thead>\n",
       "    <tr style=\"text-align: right;\">\n",
       "      <th></th>\n",
       "      <th>matchId</th>\n",
       "      <th>teamId</th>\n",
       "      <th>distance1_2_x</th>\n",
       "      <th>distance1_3_x</th>\n",
       "      <th>distance1_4_x</th>\n",
       "      <th>distance2_3_x</th>\n",
       "      <th>distance2_4_x</th>\n",
       "      <th>distance3_4_x</th>\n",
       "      <th>distance_centroid1_x</th>\n",
       "      <th>distance_centroid2_x</th>\n",
       "      <th>...</th>\n",
       "      <th>landing_risk3</th>\n",
       "      <th>landing_risk4</th>\n",
       "      <th>risk1</th>\n",
       "      <th>risk2</th>\n",
       "      <th>risk3</th>\n",
       "      <th>risk4</th>\n",
       "      <th>risk_std1</th>\n",
       "      <th>risk_std2</th>\n",
       "      <th>risk_std3</th>\n",
       "      <th>risk_std4</th>\n",
       "    </tr>\n",
       "  </thead>\n",
       "  <tbody>\n",
       "    <tr>\n",
       "      <td>0</td>\n",
       "      <td>000fe633-8af8-4037-b318-a1ca39ded6df</td>\n",
       "      <td>1</td>\n",
       "      <td>0.000000</td>\n",
       "      <td>0.000000</td>\n",
       "      <td>0.000000</td>\n",
       "      <td>0.000000</td>\n",
       "      <td>0.000000</td>\n",
       "      <td>0.000000</td>\n",
       "      <td>0.000000</td>\n",
       "      <td>0.000000</td>\n",
       "      <td>...</td>\n",
       "      <td>0.0</td>\n",
       "      <td>0.0</td>\n",
       "      <td>0.000000</td>\n",
       "      <td>0.000000</td>\n",
       "      <td>0.000000</td>\n",
       "      <td>1.500000</td>\n",
       "      <td>0.000000</td>\n",
       "      <td>0.000000</td>\n",
       "      <td>0.000000</td>\n",
       "      <td>2.121320</td>\n",
       "    </tr>\n",
       "    <tr>\n",
       "      <td>1</td>\n",
       "      <td>000fe633-8af8-4037-b318-a1ca39ded6df</td>\n",
       "      <td>2</td>\n",
       "      <td>0.000000</td>\n",
       "      <td>0.000000</td>\n",
       "      <td>0.000000</td>\n",
       "      <td>418.390210</td>\n",
       "      <td>414.514679</td>\n",
       "      <td>30.646491</td>\n",
       "      <td>0.000000</td>\n",
       "      <td>276.378251</td>\n",
       "      <td>...</td>\n",
       "      <td>49.0</td>\n",
       "      <td>0.0</td>\n",
       "      <td>4.100000</td>\n",
       "      <td>8.076923</td>\n",
       "      <td>2.650000</td>\n",
       "      <td>0.000000</td>\n",
       "      <td>6.463664</td>\n",
       "      <td>11.732511</td>\n",
       "      <td>2.661124</td>\n",
       "      <td>0.000000</td>\n",
       "    </tr>\n",
       "    <tr>\n",
       "      <td>2</td>\n",
       "      <td>000fe633-8af8-4037-b318-a1ca39ded6df</td>\n",
       "      <td>3</td>\n",
       "      <td>866.615796</td>\n",
       "      <td>858.782483</td>\n",
       "      <td>840.942177</td>\n",
       "      <td>258.785781</td>\n",
       "      <td>223.967544</td>\n",
       "      <td>47.645528</td>\n",
       "      <td>638.547728</td>\n",
       "      <td>254.697789</td>\n",
       "      <td>...</td>\n",
       "      <td>1.0</td>\n",
       "      <td>0.0</td>\n",
       "      <td>0.731707</td>\n",
       "      <td>1.694301</td>\n",
       "      <td>0.450777</td>\n",
       "      <td>0.201258</td>\n",
       "      <td>1.830544</td>\n",
       "      <td>4.923881</td>\n",
       "      <td>0.934808</td>\n",
       "      <td>0.582225</td>\n",
       "    </tr>\n",
       "    <tr>\n",
       "      <td>3</td>\n",
       "      <td>000fe633-8af8-4037-b318-a1ca39ded6df</td>\n",
       "      <td>4</td>\n",
       "      <td>425.944425</td>\n",
       "      <td>417.198576</td>\n",
       "      <td>321.380618</td>\n",
       "      <td>321.229675</td>\n",
       "      <td>154.322329</td>\n",
       "      <td>30.468740</td>\n",
       "      <td>241.120643</td>\n",
       "      <td>187.078206</td>\n",
       "      <td>...</td>\n",
       "      <td>0.0</td>\n",
       "      <td>0.0</td>\n",
       "      <td>0.553191</td>\n",
       "      <td>0.322581</td>\n",
       "      <td>0.414894</td>\n",
       "      <td>0.232558</td>\n",
       "      <td>1.528349</td>\n",
       "      <td>0.768416</td>\n",
       "      <td>0.781638</td>\n",
       "      <td>0.546097</td>\n",
       "    </tr>\n",
       "    <tr>\n",
       "      <td>4</td>\n",
       "      <td>000fe633-8af8-4037-b318-a1ca39ded6df</td>\n",
       "      <td>5</td>\n",
       "      <td>186.757953</td>\n",
       "      <td>188.940699</td>\n",
       "      <td>184.901774</td>\n",
       "      <td>36.051585</td>\n",
       "      <td>28.180701</td>\n",
       "      <td>17.629798</td>\n",
       "      <td>137.930967</td>\n",
       "      <td>50.013119</td>\n",
       "      <td>...</td>\n",
       "      <td>0.0</td>\n",
       "      <td>0.0</td>\n",
       "      <td>0.630058</td>\n",
       "      <td>0.444444</td>\n",
       "      <td>0.568047</td>\n",
       "      <td>0.408602</td>\n",
       "      <td>1.843158</td>\n",
       "      <td>0.871572</td>\n",
       "      <td>1.252301</td>\n",
       "      <td>0.875221</td>\n",
       "    </tr>\n",
       "  </tbody>\n",
       "</table>\n",
       "<p>5 rows × 45 columns</p>\n",
       "</div>"
      ],
      "text/plain": [
       "                                matchId  teamId  distance1_2_x  distance1_3_x  \\\n",
       "0  000fe633-8af8-4037-b318-a1ca39ded6df       1       0.000000       0.000000   \n",
       "1  000fe633-8af8-4037-b318-a1ca39ded6df       2       0.000000       0.000000   \n",
       "2  000fe633-8af8-4037-b318-a1ca39ded6df       3     866.615796     858.782483   \n",
       "3  000fe633-8af8-4037-b318-a1ca39ded6df       4     425.944425     417.198576   \n",
       "4  000fe633-8af8-4037-b318-a1ca39ded6df       5     186.757953     188.940699   \n",
       "\n",
       "   distance1_4_x  distance2_3_x  distance2_4_x  distance3_4_x  \\\n",
       "0       0.000000       0.000000       0.000000       0.000000   \n",
       "1       0.000000     418.390210     414.514679      30.646491   \n",
       "2     840.942177     258.785781     223.967544      47.645528   \n",
       "3     321.380618     321.229675     154.322329      30.468740   \n",
       "4     184.901774      36.051585      28.180701      17.629798   \n",
       "\n",
       "   distance_centroid1_x  distance_centroid2_x  ...  landing_risk3  \\\n",
       "0              0.000000              0.000000  ...            0.0   \n",
       "1              0.000000            276.378251  ...           49.0   \n",
       "2            638.547728            254.697789  ...            1.0   \n",
       "3            241.120643            187.078206  ...            0.0   \n",
       "4            137.930967             50.013119  ...            0.0   \n",
       "\n",
       "   landing_risk4     risk1     risk2     risk3     risk4  risk_std1  \\\n",
       "0            0.0  0.000000  0.000000  0.000000  1.500000   0.000000   \n",
       "1            0.0  4.100000  8.076923  2.650000  0.000000   6.463664   \n",
       "2            0.0  0.731707  1.694301  0.450777  0.201258   1.830544   \n",
       "3            0.0  0.553191  0.322581  0.414894  0.232558   1.528349   \n",
       "4            0.0  0.630058  0.444444  0.568047  0.408602   1.843158   \n",
       "\n",
       "   risk_std2  risk_std3  risk_std4  \n",
       "0   0.000000   0.000000   2.121320  \n",
       "1  11.732511   2.661124   0.000000  \n",
       "2   4.923881   0.934808   0.582225  \n",
       "3   0.768416   0.781638   0.546097  \n",
       "4   0.871572   1.252301   0.875221  \n",
       "\n",
       "[5 rows x 45 columns]"
      ]
     },
     "execution_count": 5,
     "metadata": {},
     "output_type": "execute_result"
    }
   ],
   "source": [
    "df.head()"
   ]
  },
  {
   "cell_type": "markdown",
   "metadata": {},
   "source": [
    "First, we look at how many teams have null values in the distance columns, meaning that the teams are of less than 4 people. We look for 99s because we previously made all the distance nans to have value 99. "
   ]
  },
  {
   "cell_type": "code",
   "execution_count": 6,
   "metadata": {},
   "outputs": [
    {
     "name": "stdout",
     "output_type": "stream",
     "text": [
      "distance1_2_y has 29.446577849904703% null values\n",
      "distance1_3_y has 29.378172588832484% null values\n",
      "distance1_4_y has 29.377464948200704% null values\n",
      "distance2_3_y has 10.598097861981772% null values\n",
      "distance2_4_y has 10.541014851018058% null values\n",
      "distance3_4_y has 6.586247240201535% null values\n",
      "distance_centroid1_y has 29.587398335629235% null values\n",
      "distance_centroid2_y has 11.227190383635573% null values\n",
      "distance_centroid3_y has 7.206612194063366% null values\n",
      "distance_centroid4_y has 0.0% null values\n"
     ]
    }
   ],
   "source": [
    "for c in df.columns:\n",
    "    if ('distance' in c) and ('y' in c):\n",
    "        nns = len([i for i in df[c] if i == 99])\n",
    "        total = len(df[c])\n",
    "        print(f'{c} has {(nns/total)*100}% null values')"
   ]
  },
  {
   "cell_type": "markdown",
   "metadata": {},
   "source": [
    "Then, we drop them. We decide to focus only on 4-player teams."
   ]
  },
  {
   "cell_type": "code",
   "execution_count": 7,
   "metadata": {},
   "outputs": [],
   "source": [
    "df = df.replace(99, np.nan)\n",
    "df = df.dropna()\n",
    "df = df.drop('n_players_y', axis=1)"
   ]
  },
  {
   "cell_type": "markdown",
   "metadata": {},
   "source": [
    "For the risk variable, we derive a new interaction variable. This is risk * risk_std since we saw that they were highly correlated, so we try to capture the effect of the variance in risk with another variable."
   ]
  },
  {
   "cell_type": "code",
   "execution_count": 8,
   "metadata": {},
   "outputs": [],
   "source": [
    "df['risk_int1'] = df['risk1'] * df['risk_std1']\n",
    "df['risk_int2'] = df['risk2'] * df['risk_std2']\n",
    "df['risk_int3'] = df['risk3'] * df['risk_std3']\n",
    "df['risk_int4'] = df['risk4'] * df['risk_std4']\n",
    "df = df.drop(['risk_std1','risk_std2','risk_std3','risk_std4'], axis=1)"
   ]
  },
  {
   "cell_type": "markdown",
   "metadata": {},
   "source": [
    "Now, we order risk variables from highest to lowest, so that the new variables represent from the riskiest player to the least risky player."
   ]
  },
  {
   "cell_type": "code",
   "execution_count": 9,
   "metadata": {},
   "outputs": [],
   "source": [
    "risk = df.loc[:, 'risk1':'risk4']\n",
    "risk = np.sort(risk.values, axis=1)[:,::-1]\n",
    "df.loc[:, 'risk1':'risk4'] = risk\n",
    "risk_std = df.loc[:, 'risk_int1':'risk_int4']\n",
    "risk_std = np.sort(risk_std.values, axis=1)[:,::-1]\n",
    "df.loc[:, 'risk_int1':'risk_int4'] = risk_std\n",
    "lrisk = df.loc[:, 'landing_risk1':'landing_risk4']\n",
    "lrisk = np.sort(lrisk.values, axis=1)[:,::-1]\n",
    "df.loc[:, 'landing_risk1':'landing_risk4'] = lrisk"
   ]
  },
  {
   "cell_type": "markdown",
   "metadata": {},
   "source": [
    "Since the sum of the Cluster columns is always 1, we have a very high correlation. For that reason, we drop one of them. In this case, we drop Cluster A because we see that it is the one with the highest correlation with the others."
   ]
  },
  {
   "cell_type": "code",
   "execution_count": 10,
   "metadata": {},
   "outputs": [
    {
     "data": {
      "text/html": [
       "<div>\n",
       "<style scoped>\n",
       "    .dataframe tbody tr th:only-of-type {\n",
       "        vertical-align: middle;\n",
       "    }\n",
       "\n",
       "    .dataframe tbody tr th {\n",
       "        vertical-align: top;\n",
       "    }\n",
       "\n",
       "    .dataframe thead th {\n",
       "        text-align: right;\n",
       "    }\n",
       "</style>\n",
       "<table border=\"1\" class=\"dataframe\">\n",
       "  <thead>\n",
       "    <tr style=\"text-align: right;\">\n",
       "      <th></th>\n",
       "      <th>cluster_A_x</th>\n",
       "      <th>cluster_B_x</th>\n",
       "      <th>cluster_C_x</th>\n",
       "      <th>cluster_D_x</th>\n",
       "    </tr>\n",
       "  </thead>\n",
       "  <tbody>\n",
       "    <tr>\n",
       "      <td>cluster_A_x</td>\n",
       "      <td>1.000000</td>\n",
       "      <td>0.752828</td>\n",
       "      <td>0.826139</td>\n",
       "      <td>0.680459</td>\n",
       "    </tr>\n",
       "    <tr>\n",
       "      <td>cluster_B_x</td>\n",
       "      <td>0.752828</td>\n",
       "      <td>1.000000</td>\n",
       "      <td>0.440376</td>\n",
       "      <td>0.219371</td>\n",
       "    </tr>\n",
       "    <tr>\n",
       "      <td>cluster_C_x</td>\n",
       "      <td>0.826139</td>\n",
       "      <td>0.440376</td>\n",
       "      <td>1.000000</td>\n",
       "      <td>0.690342</td>\n",
       "    </tr>\n",
       "    <tr>\n",
       "      <td>cluster_D_x</td>\n",
       "      <td>0.680459</td>\n",
       "      <td>0.219371</td>\n",
       "      <td>0.690342</td>\n",
       "      <td>1.000000</td>\n",
       "    </tr>\n",
       "  </tbody>\n",
       "</table>\n",
       "</div>"
      ],
      "text/plain": [
       "             cluster_A_x  cluster_B_x  cluster_C_x  cluster_D_x\n",
       "cluster_A_x     1.000000     0.752828     0.826139     0.680459\n",
       "cluster_B_x     0.752828     1.000000     0.440376     0.219371\n",
       "cluster_C_x     0.826139     0.440376     1.000000     0.690342\n",
       "cluster_D_x     0.680459     0.219371     0.690342     1.000000"
      ]
     },
     "execution_count": 10,
     "metadata": {},
     "output_type": "execute_result"
    }
   ],
   "source": [
    "df.loc[:,'cluster_A_x':'cluster_D_x'].corr()"
   ]
  },
  {
   "cell_type": "code",
   "execution_count": 11,
   "metadata": {},
   "outputs": [
    {
     "data": {
      "text/html": [
       "<div>\n",
       "<style scoped>\n",
       "    .dataframe tbody tr th:only-of-type {\n",
       "        vertical-align: middle;\n",
       "    }\n",
       "\n",
       "    .dataframe tbody tr th {\n",
       "        vertical-align: top;\n",
       "    }\n",
       "\n",
       "    .dataframe thead th {\n",
       "        text-align: right;\n",
       "    }\n",
       "</style>\n",
       "<table border=\"1\" class=\"dataframe\">\n",
       "  <thead>\n",
       "    <tr style=\"text-align: right;\">\n",
       "      <th></th>\n",
       "      <th>cluster_A_y</th>\n",
       "      <th>cluster_B_y</th>\n",
       "      <th>cluster_C_y</th>\n",
       "      <th>cluster_D_y</th>\n",
       "    </tr>\n",
       "  </thead>\n",
       "  <tbody>\n",
       "    <tr>\n",
       "      <td>cluster_A_y</td>\n",
       "      <td>1.000000</td>\n",
       "      <td>-0.924651</td>\n",
       "      <td>-0.896358</td>\n",
       "      <td>-0.724987</td>\n",
       "    </tr>\n",
       "    <tr>\n",
       "      <td>cluster_B_y</td>\n",
       "      <td>-0.924651</td>\n",
       "      <td>1.000000</td>\n",
       "      <td>0.683865</td>\n",
       "      <td>0.473274</td>\n",
       "    </tr>\n",
       "    <tr>\n",
       "      <td>cluster_C_y</td>\n",
       "      <td>-0.896358</td>\n",
       "      <td>0.683865</td>\n",
       "      <td>1.000000</td>\n",
       "      <td>0.743550</td>\n",
       "    </tr>\n",
       "    <tr>\n",
       "      <td>cluster_D_y</td>\n",
       "      <td>-0.724987</td>\n",
       "      <td>0.473274</td>\n",
       "      <td>0.743550</td>\n",
       "      <td>1.000000</td>\n",
       "    </tr>\n",
       "  </tbody>\n",
       "</table>\n",
       "</div>"
      ],
      "text/plain": [
       "             cluster_A_y  cluster_B_y  cluster_C_y  cluster_D_y\n",
       "cluster_A_y     1.000000    -0.924651    -0.896358    -0.724987\n",
       "cluster_B_y    -0.924651     1.000000     0.683865     0.473274\n",
       "cluster_C_y    -0.896358     0.683865     1.000000     0.743550\n",
       "cluster_D_y    -0.724987     0.473274     0.743550     1.000000"
      ]
     },
     "execution_count": 11,
     "metadata": {},
     "output_type": "execute_result"
    }
   ],
   "source": [
    "df.loc[:,'cluster_A_y':'cluster_D_y'].corr()"
   ]
  },
  {
   "cell_type": "code",
   "execution_count": 12,
   "metadata": {},
   "outputs": [],
   "source": [
    "df = df.drop(['cluster_A_x','cluster_A_y'], axis=1)"
   ]
  },
  {
   "cell_type": "markdown",
   "metadata": {},
   "source": [
    "Now, we merge rankpoints"
   ]
  },
  {
   "cell_type": "code",
   "execution_count": 13,
   "metadata": {},
   "outputs": [],
   "source": [
    "rkpts = pd.read_csv('experience_data/rankpoints_csv.csv', index_col=0)\n",
    "df = pd.merge(df, rkpts, how='left', on=['matchId', 'teamId'])"
   ]
  },
  {
   "cell_type": "markdown",
   "metadata": {},
   "source": [
    "Next, we create the control variables for all the groups of variable.\n",
    "We will use as control the mean of each group for the match. E.g. for pair distances, we will control for the mean pair player distance of the match."
   ]
  },
  {
   "cell_type": "code",
   "execution_count": 14,
   "metadata": {},
   "outputs": [],
   "source": [
    "group = df.groupby(['matchId']).mean().reset_index()\n",
    "mean_distance = pd.concat([group.matchId, group[['distance1_2_y', 'distance1_3_y', 'distance1_4_y', 'distance2_3_y', 'distance2_4_y', 'distance3_4_y']].apply(np.mean, axis=1)], axis=1)\n",
    "mean_distance.columns = ['matchId','distance_ctrl']\n",
    "mean_centroid = pd.concat([group.matchId, group[['distance_centroid1_y', 'distance_centroid2_y', 'distance_centroid3_y', 'distance_centroid4_y']].apply(np.mean, axis=1)], axis=1)\n",
    "mean_centroid.columns = ['matchId','centroid_ctrl']\n",
    "mean_cluster = pd.concat([group.matchId, group[['cluster_B_y', 'cluster_C_y','cluster_D_y']].apply(np.mean, axis=1)], axis=1)\n",
    "mean_cluster.columns = ['matchId','cluster_ctrl']\n",
    "mean_exp = pd.concat([group.matchId, group[['exp1', 'exp2', 'exp3', 'exp4']].apply(np.mean, axis=1)], axis=1)\n",
    "mean_exp.columns = ['matchId','exp_ctrl']\n",
    "mean_risk = pd.concat([group.matchId, group[['risk1', 'risk2', 'risk3', 'risk4']].apply(np.mean, axis=1)], axis=1)\n",
    "mean_risk.columns = ['matchId','risk_ctrl']\n",
    "# mean_lrisk = pd.concat([group.matchId, group[['landing_risk1', 'landing_risk2', 'landing_risk3', 'landing_risk4']].apply(np.mean, axis=1)], axis=1)\n",
    "# mean_lrisk.columns = ['matchId','landing_risk_ctrl']\n",
    "mean_agi = group[['matchId', 'agility_y']]\n",
    "mean_agi.columns = ['matchId','agi_ctrl']\n",
    "df = pd.merge(df, mean_distance, how = 'left', on=\"matchId\")\n",
    "df = pd.merge(df, mean_centroid, how = 'left', on=\"matchId\")\n",
    "df = pd.merge(df, mean_cluster, how = 'left', on=\"matchId\")\n",
    "df = pd.merge(df, mean_exp, how = 'left', on=\"matchId\")\n",
    "df = pd.merge(df, mean_risk, how = 'left', on=\"matchId\")\n",
    "# df = pd.merge(df, mean_lrisk, how = 'left', on=\"matchId\")\n",
    "df = pd.merge(df, mean_agi, how = 'left', on=\"matchId\")"
   ]
  },
  {
   "cell_type": "markdown",
   "metadata": {},
   "source": [
    "Now, since experience was already a control variable, we are going to engineer the variable. For that, we are going to normalize the experiences of the palyers by the mean experience of the match, and then we are going to get the aggregate experience for the team. We sum 1 to the denominator in case there is some mean exp that is equal to 0."
   ]
  },
  {
   "cell_type": "code",
   "execution_count": 15,
   "metadata": {},
   "outputs": [],
   "source": [
    "df['exp1'] = df['exp1'] / (df['exp_ctrl'] + 1)\n",
    "df['exp2'] = df['exp2'] / (df['exp_ctrl'] + 1)\n",
    "df['exp3'] = df['exp3'] / (df['exp_ctrl'] + 1)\n",
    "df['exp4'] = df['exp4'] / (df['exp_ctrl'] + 1)\n",
    "df['exp'] = df['exp1'] + df['exp2'] + df['exp3'] + df['exp4']\n",
    "df = df.drop(['exp1','exp2','exp3','exp4', 'exp_ctrl'], axis=1)"
   ]
  },
  {
   "cell_type": "markdown",
   "metadata": {},
   "source": [
    "Since we have many players for whom we don't know the experience, we are going to drop them.<br><BR>\n",
    "(NOT SURE ABOUT THIS, I THINK IT MAKES THE MODEL WORSE SO I COMMENTED IT) Then, we are going to recalculate the rankings for our regression tasks. The goal is to show the ranking in the match of the teams that we have information about. E.g. if for a match we only have 4 teams left, ranks 1,5,9,11, the new ranks will be 1,2,3,4 respectively."
   ]
  },
  {
   "cell_type": "code",
   "execution_count": 16,
   "metadata": {},
   "outputs": [],
   "source": [
    "df = df.dropna()\n",
    "# for match in df.matchId.unique():\n",
    "#     df.loc[df.matchId == match,'new_ranking'] = df.loc[df.matchId == match,'ranking'].rank()"
   ]
  },
  {
   "cell_type": "markdown",
   "metadata": {},
   "source": [
    "To make things easiear, we make sure that ranking is the last column."
   ]
  },
  {
   "cell_type": "code",
   "execution_count": 17,
   "metadata": {},
   "outputs": [],
   "source": [
    "ranking = df.pop('ranking')\n",
    "df.insert(df.shape[1], 'ranking', ranking)"
   ]
  },
  {
   "cell_type": "markdown",
   "metadata": {},
   "source": [
    "Since we have many variables ordered, we drop the middle variables to stay only with max and min variables (they don't add much to the model)."
   ]
  },
  {
   "cell_type": "code",
   "execution_count": 18,
   "metadata": {},
   "outputs": [],
   "source": [
    "df = df.drop(['distance1_3_x', 'distance1_4_x', 'distance2_3_x', 'distance2_4_x',\n",
    "              'distance1_3_y', 'distance1_4_y', 'distance2_3_y', 'distance2_4_y', \n",
    "              'distance_centroid2_x', 'distance_centroid3_x', 'distance_centroid2_y', 'distance_centroid3_y',\n",
    "              'risk2', 'risk3', 'risk_int2', 'risk_int3', 'landing_risk2','landing_risk3'], axis=1)"
   ]
  },
  {
   "cell_type": "markdown",
   "metadata": {},
   "source": [
    "Now, let's remove the outliers. For that, we use the Z-score, and we will remove all rows with z-score bigger than 3 (3 standard deviations away from the mean)"
   ]
  },
  {
   "cell_type": "code",
   "execution_count": 26,
   "metadata": {},
   "outputs": [
    {
     "name": "stdout",
     "output_type": "stream",
     "text": [
      "[[0.1799266  0.55332913 0.3962748  ... 0.57538345 0.74629194 1.14389719]\n",
      " [1.22431012 0.66914013 0.37480063 ... 0.57538345 0.74629194 1.21979657]\n",
      " [1.38664867 1.09392372 1.37261448 ... 0.79668337 0.74629194 0.82584761]\n",
      " ...\n",
      " [1.22431012 0.07275725 0.11394716 ... 0.74111496 0.74629194 1.14389719]\n",
      " [1.35485806 0.44855327 0.29275763 ... 0.74111496 0.74629194 0.09336663]\n",
      " [1.87704981 0.36119159 0.38189299 ... 0.74111496 0.74629194 1.53784615]]\n"
     ]
    }
   ],
   "source": [
    "from scipy import stats\n",
    "import numpy as np\n",
    "z = np.abs(stats.zscore(df.iloc[:,1:]))\n",
    "print(z)"
   ]
  },
  {
   "cell_type": "code",
   "execution_count": 27,
   "metadata": {},
   "outputs": [],
   "source": [
    "df = df[(z < 3).all(axis=1)]"
   ]
  },
  {
   "cell_type": "code",
   "execution_count": 29,
   "metadata": {},
   "outputs": [
    {
     "data": {
      "text/plain": [
       "(114940, 30)"
      ]
     },
     "execution_count": 29,
     "metadata": {},
     "output_type": "execute_result"
    }
   ],
   "source": [
    "df.shape"
   ]
  },
  {
   "cell_type": "markdown",
   "metadata": {},
   "source": [
    "Then, we separate the two df that we are going to study"
   ]
  },
  {
   "cell_type": "code",
   "execution_count": 30,
   "metadata": {},
   "outputs": [
    {
     "data": {
      "text/html": [
       "<div>\n",
       "<style scoped>\n",
       "    .dataframe tbody tr th:only-of-type {\n",
       "        vertical-align: middle;\n",
       "    }\n",
       "\n",
       "    .dataframe tbody tr th {\n",
       "        vertical-align: top;\n",
       "    }\n",
       "\n",
       "    .dataframe thead th {\n",
       "        text-align: right;\n",
       "    }\n",
       "</style>\n",
       "<table border=\"1\" class=\"dataframe\">\n",
       "  <thead>\n",
       "    <tr style=\"text-align: right;\">\n",
       "      <th></th>\n",
       "      <th>0</th>\n",
       "      <th>1</th>\n",
       "      <th>2</th>\n",
       "      <th>3</th>\n",
       "      <th>4</th>\n",
       "      <th>5</th>\n",
       "      <th>6</th>\n",
       "      <th>7</th>\n",
       "      <th>8</th>\n",
       "      <th>9</th>\n",
       "      <th>10</th>\n",
       "      <th>11</th>\n",
       "      <th>12</th>\n",
       "      <th>13</th>\n",
       "      <th>14</th>\n",
       "      <th>15</th>\n",
       "      <th>16</th>\n",
       "      <th>17</th>\n",
       "      <th>18</th>\n",
       "      <th>19</th>\n",
       "      <th>20</th>\n",
       "      <th>21</th>\n",
       "      <th>22</th>\n",
       "      <th>23</th>\n",
       "      <th>24</th>\n",
       "      <th>25</th>\n",
       "      <th>26</th>\n",
       "      <th>27</th>\n",
       "      <th>28</th>\n",
       "      <th>29</th>\n",
       "    </tr>\n",
       "  </thead>\n",
       "  <tbody>\n",
       "    <tr>\n",
       "      <td>0</td>\n",
       "      <td>matchId</td>\n",
       "      <td>teamId</td>\n",
       "      <td>distance1_2_x</td>\n",
       "      <td>distance3_4_x</td>\n",
       "      <td>distance_centroid1_x</td>\n",
       "      <td>distance_centroid4_x</td>\n",
       "      <td>cluster_B_x</td>\n",
       "      <td>cluster_C_x</td>\n",
       "      <td>cluster_D_x</td>\n",
       "      <td>distance1_2_y</td>\n",
       "      <td>distance3_4_y</td>\n",
       "      <td>distance_centroid1_y</td>\n",
       "      <td>distance_centroid4_y</td>\n",
       "      <td>cluster_B_y</td>\n",
       "      <td>cluster_C_y</td>\n",
       "      <td>cluster_D_y</td>\n",
       "      <td>agility_y</td>\n",
       "      <td>landing_risk1</td>\n",
       "      <td>landing_risk4</td>\n",
       "      <td>risk1</td>\n",
       "      <td>risk4</td>\n",
       "      <td>risk_int1</td>\n",
       "      <td>risk_int4</td>\n",
       "      <td>distance_ctrl</td>\n",
       "      <td>centroid_ctrl</td>\n",
       "      <td>cluster_ctrl</td>\n",
       "      <td>risk_ctrl</td>\n",
       "      <td>agi_ctrl</td>\n",
       "      <td>exp</td>\n",
       "      <td>ranking</td>\n",
       "    </tr>\n",
       "  </tbody>\n",
       "</table>\n",
       "</div>"
      ],
      "text/plain": [
       "         0       1              2              3                     4  \\\n",
       "0  matchId  teamId  distance1_2_x  distance3_4_x  distance_centroid1_x   \n",
       "\n",
       "                      5            6            7            8              9  \\\n",
       "0  distance_centroid4_x  cluster_B_x  cluster_C_x  cluster_D_x  distance1_2_y   \n",
       "\n",
       "              10                    11                    12           13  \\\n",
       "0  distance3_4_y  distance_centroid1_y  distance_centroid4_y  cluster_B_y   \n",
       "\n",
       "            14           15         16             17             18     19  \\\n",
       "0  cluster_C_y  cluster_D_y  agility_y  landing_risk1  landing_risk4  risk1   \n",
       "\n",
       "      20         21         22             23             24            25  \\\n",
       "0  risk4  risk_int1  risk_int4  distance_ctrl  centroid_ctrl  cluster_ctrl   \n",
       "\n",
       "          26        27   28       29  \n",
       "0  risk_ctrl  agi_ctrl  exp  ranking  "
      ]
     },
     "execution_count": 30,
     "metadata": {},
     "output_type": "execute_result"
    }
   ],
   "source": [
    "pd.set_option('display.max_columns', 48)\n",
    "pd.DataFrame(df.columns).transpose()"
   ]
  },
  {
   "cell_type": "code",
   "execution_count": 32,
   "metadata": {},
   "outputs": [],
   "source": [
    "# distances and centroids\n",
    "df1 = pd.concat([df.iloc[:,0:6], df.iloc[:,9:13], df.iloc[:,16:25], df.iloc[:,26:]], axis=1)\n",
    "\n",
    "# distances and clusters\n",
    "df2 = pd.concat([df.iloc[:,0:4], df.iloc[:,6:11], df.iloc[:,13:24], df.iloc[:,25:]], axis=1)\n"
   ]
  },
  {
   "cell_type": "markdown",
   "metadata": {},
   "source": [
    "Here, I just check the correlations. There is probably something that we can do about high correlations, though."
   ]
  },
  {
   "cell_type": "code",
   "execution_count": 33,
   "metadata": {},
   "outputs": [
    {
     "data": {
      "text/html": [
       "<style  type=\"text/css\" >\n",
       "    #T_a4cad736_b888_11ea_86f7_3c9509197fc0row0_col0 {\n",
       "            background:  red;\n",
       "        }    #T_a4cad736_b888_11ea_86f7_3c9509197fc0row0_col5 {\n",
       "            background:  red;\n",
       "        }    #T_a4cad736_b888_11ea_86f7_3c9509197fc0row1_col1 {\n",
       "            background:  red;\n",
       "        }    #T_a4cad736_b888_11ea_86f7_3c9509197fc0row1_col4 {\n",
       "            background:  red;\n",
       "        }    #T_a4cad736_b888_11ea_86f7_3c9509197fc0row1_col9 {\n",
       "            background:  red;\n",
       "        }    #T_a4cad736_b888_11ea_86f7_3c9509197fc0row2_col2 {\n",
       "            background:  red;\n",
       "        }    #T_a4cad736_b888_11ea_86f7_3c9509197fc0row3_col3 {\n",
       "            background:  red;\n",
       "        }    #T_a4cad736_b888_11ea_86f7_3c9509197fc0row3_col8 {\n",
       "            background:  red;\n",
       "        }    #T_a4cad736_b888_11ea_86f7_3c9509197fc0row4_col1 {\n",
       "            background:  red;\n",
       "        }    #T_a4cad736_b888_11ea_86f7_3c9509197fc0row4_col4 {\n",
       "            background:  red;\n",
       "        }    #T_a4cad736_b888_11ea_86f7_3c9509197fc0row4_col9 {\n",
       "            background:  red;\n",
       "        }    #T_a4cad736_b888_11ea_86f7_3c9509197fc0row5_col0 {\n",
       "            background:  red;\n",
       "        }    #T_a4cad736_b888_11ea_86f7_3c9509197fc0row5_col5 {\n",
       "            background:  red;\n",
       "        }    #T_a4cad736_b888_11ea_86f7_3c9509197fc0row6_col6 {\n",
       "            background:  red;\n",
       "        }    #T_a4cad736_b888_11ea_86f7_3c9509197fc0row7_col7 {\n",
       "            background:  red;\n",
       "        }    #T_a4cad736_b888_11ea_86f7_3c9509197fc0row8_col3 {\n",
       "            background:  red;\n",
       "        }    #T_a4cad736_b888_11ea_86f7_3c9509197fc0row8_col8 {\n",
       "            background:  red;\n",
       "        }    #T_a4cad736_b888_11ea_86f7_3c9509197fc0row9_col1 {\n",
       "            background:  red;\n",
       "        }    #T_a4cad736_b888_11ea_86f7_3c9509197fc0row9_col4 {\n",
       "            background:  red;\n",
       "        }    #T_a4cad736_b888_11ea_86f7_3c9509197fc0row9_col9 {\n",
       "            background:  red;\n",
       "        }    #T_a4cad736_b888_11ea_86f7_3c9509197fc0row10_col10 {\n",
       "            background:  red;\n",
       "        }    #T_a4cad736_b888_11ea_86f7_3c9509197fc0row11_col11 {\n",
       "            background:  red;\n",
       "        }    #T_a4cad736_b888_11ea_86f7_3c9509197fc0row12_col12 {\n",
       "            background:  red;\n",
       "        }    #T_a4cad736_b888_11ea_86f7_3c9509197fc0row13_col13 {\n",
       "            background:  red;\n",
       "        }    #T_a4cad736_b888_11ea_86f7_3c9509197fc0row13_col15 {\n",
       "            background:  red;\n",
       "        }    #T_a4cad736_b888_11ea_86f7_3c9509197fc0row14_col14 {\n",
       "            background:  red;\n",
       "        }    #T_a4cad736_b888_11ea_86f7_3c9509197fc0row14_col16 {\n",
       "            background:  red;\n",
       "        }    #T_a4cad736_b888_11ea_86f7_3c9509197fc0row15_col13 {\n",
       "            background:  red;\n",
       "        }    #T_a4cad736_b888_11ea_86f7_3c9509197fc0row15_col15 {\n",
       "            background:  red;\n",
       "        }    #T_a4cad736_b888_11ea_86f7_3c9509197fc0row16_col14 {\n",
       "            background:  red;\n",
       "        }    #T_a4cad736_b888_11ea_86f7_3c9509197fc0row16_col16 {\n",
       "            background:  red;\n",
       "        }    #T_a4cad736_b888_11ea_86f7_3c9509197fc0row17_col17 {\n",
       "            background:  red;\n",
       "        }    #T_a4cad736_b888_11ea_86f7_3c9509197fc0row17_col18 {\n",
       "            background:  red;\n",
       "        }    #T_a4cad736_b888_11ea_86f7_3c9509197fc0row18_col17 {\n",
       "            background:  red;\n",
       "        }    #T_a4cad736_b888_11ea_86f7_3c9509197fc0row18_col18 {\n",
       "            background:  red;\n",
       "        }    #T_a4cad736_b888_11ea_86f7_3c9509197fc0row19_col19 {\n",
       "            background:  red;\n",
       "        }    #T_a4cad736_b888_11ea_86f7_3c9509197fc0row20_col20 {\n",
       "            background:  red;\n",
       "        }    #T_a4cad736_b888_11ea_86f7_3c9509197fc0row21_col21 {\n",
       "            background:  red;\n",
       "        }    #T_a4cad736_b888_11ea_86f7_3c9509197fc0row22_col22 {\n",
       "            background:  red;\n",
       "        }</style><table id=\"T_a4cad736_b888_11ea_86f7_3c9509197fc0\" ><thead>    <tr>        <th class=\"blank level0\" ></th>        <th class=\"col_heading level0 col0\" >distance1_2_x</th>        <th class=\"col_heading level0 col1\" >distance3_4_x</th>        <th class=\"col_heading level0 col2\" >cluster_B_x</th>        <th class=\"col_heading level0 col3\" >cluster_C_x</th>        <th class=\"col_heading level0 col4\" >cluster_D_x</th>        <th class=\"col_heading level0 col5\" >distance1_2_y</th>        <th class=\"col_heading level0 col6\" >distance3_4_y</th>        <th class=\"col_heading level0 col7\" >cluster_B_y</th>        <th class=\"col_heading level0 col8\" >cluster_C_y</th>        <th class=\"col_heading level0 col9\" >cluster_D_y</th>        <th class=\"col_heading level0 col10\" >agility_y</th>        <th class=\"col_heading level0 col11\" >landing_risk1</th>        <th class=\"col_heading level0 col12\" >landing_risk4</th>        <th class=\"col_heading level0 col13\" >risk1</th>        <th class=\"col_heading level0 col14\" >risk4</th>        <th class=\"col_heading level0 col15\" >risk_int1</th>        <th class=\"col_heading level0 col16\" >risk_int4</th>        <th class=\"col_heading level0 col17\" >distance_ctrl</th>        <th class=\"col_heading level0 col18\" >cluster_ctrl</th>        <th class=\"col_heading level0 col19\" >risk_ctrl</th>        <th class=\"col_heading level0 col20\" >agi_ctrl</th>        <th class=\"col_heading level0 col21\" >exp</th>        <th class=\"col_heading level0 col22\" >ranking</th>    </tr></thead><tbody>\n",
       "                <tr>\n",
       "                        <th id=\"T_a4cad736_b888_11ea_86f7_3c9509197fc0level0_row0\" class=\"row_heading level0 row0\" >distance1_2_x</th>\n",
       "                        <td id=\"T_a4cad736_b888_11ea_86f7_3c9509197fc0row0_col0\" class=\"data row0 col0\" >1</td>\n",
       "                        <td id=\"T_a4cad736_b888_11ea_86f7_3c9509197fc0row0_col1\" class=\"data row0 col1\" >0.414817</td>\n",
       "                        <td id=\"T_a4cad736_b888_11ea_86f7_3c9509197fc0row0_col2\" class=\"data row0 col2\" >0.236468</td>\n",
       "                        <td id=\"T_a4cad736_b888_11ea_86f7_3c9509197fc0row0_col3\" class=\"data row0 col3\" >0.415656</td>\n",
       "                        <td id=\"T_a4cad736_b888_11ea_86f7_3c9509197fc0row0_col4\" class=\"data row0 col4\" >0.36185</td>\n",
       "                        <td id=\"T_a4cad736_b888_11ea_86f7_3c9509197fc0row0_col5\" class=\"data row0 col5\" >0.759874</td>\n",
       "                        <td id=\"T_a4cad736_b888_11ea_86f7_3c9509197fc0row0_col6\" class=\"data row0 col6\" >0.15439</td>\n",
       "                        <td id=\"T_a4cad736_b888_11ea_86f7_3c9509197fc0row0_col7\" class=\"data row0 col7\" >0.347467</td>\n",
       "                        <td id=\"T_a4cad736_b888_11ea_86f7_3c9509197fc0row0_col8\" class=\"data row0 col8\" >0.375799</td>\n",
       "                        <td id=\"T_a4cad736_b888_11ea_86f7_3c9509197fc0row0_col9\" class=\"data row0 col9\" >0.302084</td>\n",
       "                        <td id=\"T_a4cad736_b888_11ea_86f7_3c9509197fc0row0_col10\" class=\"data row0 col10\" >-0.121588</td>\n",
       "                        <td id=\"T_a4cad736_b888_11ea_86f7_3c9509197fc0row0_col11\" class=\"data row0 col11\" >-0.173454</td>\n",
       "                        <td id=\"T_a4cad736_b888_11ea_86f7_3c9509197fc0row0_col12\" class=\"data row0 col12\" >-0.23653</td>\n",
       "                        <td id=\"T_a4cad736_b888_11ea_86f7_3c9509197fc0row0_col13\" class=\"data row0 col13\" >-0.150584</td>\n",
       "                        <td id=\"T_a4cad736_b888_11ea_86f7_3c9509197fc0row0_col14\" class=\"data row0 col14\" >-0.286486</td>\n",
       "                        <td id=\"T_a4cad736_b888_11ea_86f7_3c9509197fc0row0_col15\" class=\"data row0 col15\" >-0.10558</td>\n",
       "                        <td id=\"T_a4cad736_b888_11ea_86f7_3c9509197fc0row0_col16\" class=\"data row0 col16\" >-0.208863</td>\n",
       "                        <td id=\"T_a4cad736_b888_11ea_86f7_3c9509197fc0row0_col17\" class=\"data row0 col17\" >0.41961</td>\n",
       "                        <td id=\"T_a4cad736_b888_11ea_86f7_3c9509197fc0row0_col18\" class=\"data row0 col18\" >0.381677</td>\n",
       "                        <td id=\"T_a4cad736_b888_11ea_86f7_3c9509197fc0row0_col19\" class=\"data row0 col19\" >-0.324497</td>\n",
       "                        <td id=\"T_a4cad736_b888_11ea_86f7_3c9509197fc0row0_col20\" class=\"data row0 col20\" >-0.104551</td>\n",
       "                        <td id=\"T_a4cad736_b888_11ea_86f7_3c9509197fc0row0_col21\" class=\"data row0 col21\" >-0.0897837</td>\n",
       "                        <td id=\"T_a4cad736_b888_11ea_86f7_3c9509197fc0row0_col22\" class=\"data row0 col22\" >0.0916788</td>\n",
       "            </tr>\n",
       "            <tr>\n",
       "                        <th id=\"T_a4cad736_b888_11ea_86f7_3c9509197fc0level0_row1\" class=\"row_heading level0 row1\" >distance3_4_x</th>\n",
       "                        <td id=\"T_a4cad736_b888_11ea_86f7_3c9509197fc0row1_col0\" class=\"data row1 col0\" >0.414817</td>\n",
       "                        <td id=\"T_a4cad736_b888_11ea_86f7_3c9509197fc0row1_col1\" class=\"data row1 col1\" >1</td>\n",
       "                        <td id=\"T_a4cad736_b888_11ea_86f7_3c9509197fc0row1_col2\" class=\"data row1 col2\" >0.238348</td>\n",
       "                        <td id=\"T_a4cad736_b888_11ea_86f7_3c9509197fc0row1_col3\" class=\"data row1 col3\" >0.595959</td>\n",
       "                        <td id=\"T_a4cad736_b888_11ea_86f7_3c9509197fc0row1_col4\" class=\"data row1 col4\" >0.811978</td>\n",
       "                        <td id=\"T_a4cad736_b888_11ea_86f7_3c9509197fc0row1_col5\" class=\"data row1 col5\" >0.484154</td>\n",
       "                        <td id=\"T_a4cad736_b888_11ea_86f7_3c9509197fc0row1_col6\" class=\"data row1 col6\" >0.679887</td>\n",
       "                        <td id=\"T_a4cad736_b888_11ea_86f7_3c9509197fc0row1_col7\" class=\"data row1 col7\" >0.41519</td>\n",
       "                        <td id=\"T_a4cad736_b888_11ea_86f7_3c9509197fc0row1_col8\" class=\"data row1 col8\" >0.626462</td>\n",
       "                        <td id=\"T_a4cad736_b888_11ea_86f7_3c9509197fc0row1_col9\" class=\"data row1 col9\" >0.800824</td>\n",
       "                        <td id=\"T_a4cad736_b888_11ea_86f7_3c9509197fc0row1_col10\" class=\"data row1 col10\" >0.036444</td>\n",
       "                        <td id=\"T_a4cad736_b888_11ea_86f7_3c9509197fc0row1_col11\" class=\"data row1 col11\" >-0.247628</td>\n",
       "                        <td id=\"T_a4cad736_b888_11ea_86f7_3c9509197fc0row1_col12\" class=\"data row1 col12\" >-0.255173</td>\n",
       "                        <td id=\"T_a4cad736_b888_11ea_86f7_3c9509197fc0row1_col13\" class=\"data row1 col13\" >-0.241907</td>\n",
       "                        <td id=\"T_a4cad736_b888_11ea_86f7_3c9509197fc0row1_col14\" class=\"data row1 col14\" >-0.30662</td>\n",
       "                        <td id=\"T_a4cad736_b888_11ea_86f7_3c9509197fc0row1_col15\" class=\"data row1 col15\" >-0.172822</td>\n",
       "                        <td id=\"T_a4cad736_b888_11ea_86f7_3c9509197fc0row1_col16\" class=\"data row1 col16\" >-0.232421</td>\n",
       "                        <td id=\"T_a4cad736_b888_11ea_86f7_3c9509197fc0row1_col17\" class=\"data row1 col17\" >0.331822</td>\n",
       "                        <td id=\"T_a4cad736_b888_11ea_86f7_3c9509197fc0row1_col18\" class=\"data row1 col18\" >0.343753</td>\n",
       "                        <td id=\"T_a4cad736_b888_11ea_86f7_3c9509197fc0row1_col19\" class=\"data row1 col19\" >-0.279895</td>\n",
       "                        <td id=\"T_a4cad736_b888_11ea_86f7_3c9509197fc0row1_col20\" class=\"data row1 col20\" >-0.0263965</td>\n",
       "                        <td id=\"T_a4cad736_b888_11ea_86f7_3c9509197fc0row1_col21\" class=\"data row1 col21\" >-0.0644315</td>\n",
       "                        <td id=\"T_a4cad736_b888_11ea_86f7_3c9509197fc0row1_col22\" class=\"data row1 col22\" >0.00708147</td>\n",
       "            </tr>\n",
       "            <tr>\n",
       "                        <th id=\"T_a4cad736_b888_11ea_86f7_3c9509197fc0level0_row2\" class=\"row_heading level0 row2\" >cluster_B_x</th>\n",
       "                        <td id=\"T_a4cad736_b888_11ea_86f7_3c9509197fc0row2_col0\" class=\"data row2 col0\" >0.236468</td>\n",
       "                        <td id=\"T_a4cad736_b888_11ea_86f7_3c9509197fc0row2_col1\" class=\"data row2 col1\" >0.238348</td>\n",
       "                        <td id=\"T_a4cad736_b888_11ea_86f7_3c9509197fc0row2_col2\" class=\"data row2 col2\" >1</td>\n",
       "                        <td id=\"T_a4cad736_b888_11ea_86f7_3c9509197fc0row2_col3\" class=\"data row2 col3\" >0.435173</td>\n",
       "                        <td id=\"T_a4cad736_b888_11ea_86f7_3c9509197fc0row2_col4\" class=\"data row2 col4\" >0.219175</td>\n",
       "                        <td id=\"T_a4cad736_b888_11ea_86f7_3c9509197fc0row2_col5\" class=\"data row2 col5\" >0.261618</td>\n",
       "                        <td id=\"T_a4cad736_b888_11ea_86f7_3c9509197fc0row2_col6\" class=\"data row2 col6\" >0.116764</td>\n",
       "                        <td id=\"T_a4cad736_b888_11ea_86f7_3c9509197fc0row2_col7\" class=\"data row2 col7\" >0.681127</td>\n",
       "                        <td id=\"T_a4cad736_b888_11ea_86f7_3c9509197fc0row2_col8\" class=\"data row2 col8\" >0.275687</td>\n",
       "                        <td id=\"T_a4cad736_b888_11ea_86f7_3c9509197fc0row2_col9\" class=\"data row2 col9\" >0.152003</td>\n",
       "                        <td id=\"T_a4cad736_b888_11ea_86f7_3c9509197fc0row2_col10\" class=\"data row2 col10\" >0.0777444</td>\n",
       "                        <td id=\"T_a4cad736_b888_11ea_86f7_3c9509197fc0row2_col11\" class=\"data row2 col11\" >-0.198956</td>\n",
       "                        <td id=\"T_a4cad736_b888_11ea_86f7_3c9509197fc0row2_col12\" class=\"data row2 col12\" >-0.279179</td>\n",
       "                        <td id=\"T_a4cad736_b888_11ea_86f7_3c9509197fc0row2_col13\" class=\"data row2 col13\" >-0.230232</td>\n",
       "                        <td id=\"T_a4cad736_b888_11ea_86f7_3c9509197fc0row2_col14\" class=\"data row2 col14\" >-0.353458</td>\n",
       "                        <td id=\"T_a4cad736_b888_11ea_86f7_3c9509197fc0row2_col15\" class=\"data row2 col15\" >-0.166509</td>\n",
       "                        <td id=\"T_a4cad736_b888_11ea_86f7_3c9509197fc0row2_col16\" class=\"data row2 col16\" >-0.280966</td>\n",
       "                        <td id=\"T_a4cad736_b888_11ea_86f7_3c9509197fc0row2_col17\" class=\"data row2 col17\" >0.216853</td>\n",
       "                        <td id=\"T_a4cad736_b888_11ea_86f7_3c9509197fc0row2_col18\" class=\"data row2 col18\" >0.290799</td>\n",
       "                        <td id=\"T_a4cad736_b888_11ea_86f7_3c9509197fc0row2_col19\" class=\"data row2 col19\" >-0.210424</td>\n",
       "                        <td id=\"T_a4cad736_b888_11ea_86f7_3c9509197fc0row2_col20\" class=\"data row2 col20\" >-0.0454265</td>\n",
       "                        <td id=\"T_a4cad736_b888_11ea_86f7_3c9509197fc0row2_col21\" class=\"data row2 col21\" >-0.065534</td>\n",
       "                        <td id=\"T_a4cad736_b888_11ea_86f7_3c9509197fc0row2_col22\" class=\"data row2 col22\" >-0.104686</td>\n",
       "            </tr>\n",
       "            <tr>\n",
       "                        <th id=\"T_a4cad736_b888_11ea_86f7_3c9509197fc0level0_row3\" class=\"row_heading level0 row3\" >cluster_C_x</th>\n",
       "                        <td id=\"T_a4cad736_b888_11ea_86f7_3c9509197fc0row3_col0\" class=\"data row3 col0\" >0.415656</td>\n",
       "                        <td id=\"T_a4cad736_b888_11ea_86f7_3c9509197fc0row3_col1\" class=\"data row3 col1\" >0.595959</td>\n",
       "                        <td id=\"T_a4cad736_b888_11ea_86f7_3c9509197fc0row3_col2\" class=\"data row3 col2\" >0.435173</td>\n",
       "                        <td id=\"T_a4cad736_b888_11ea_86f7_3c9509197fc0row3_col3\" class=\"data row3 col3\" >1</td>\n",
       "                        <td id=\"T_a4cad736_b888_11ea_86f7_3c9509197fc0row3_col4\" class=\"data row3 col4\" >0.652275</td>\n",
       "                        <td id=\"T_a4cad736_b888_11ea_86f7_3c9509197fc0row3_col5\" class=\"data row3 col5\" >0.529731</td>\n",
       "                        <td id=\"T_a4cad736_b888_11ea_86f7_3c9509197fc0row3_col6\" class=\"data row3 col6\" >0.473086</td>\n",
       "                        <td id=\"T_a4cad736_b888_11ea_86f7_3c9509197fc0row3_col7\" class=\"data row3 col7\" >0.667792</td>\n",
       "                        <td id=\"T_a4cad736_b888_11ea_86f7_3c9509197fc0row3_col8\" class=\"data row3 col8\" >0.882083</td>\n",
       "                        <td id=\"T_a4cad736_b888_11ea_86f7_3c9509197fc0row3_col9\" class=\"data row3 col9\" >0.557412</td>\n",
       "                        <td id=\"T_a4cad736_b888_11ea_86f7_3c9509197fc0row3_col10\" class=\"data row3 col10\" >0.0569772</td>\n",
       "                        <td id=\"T_a4cad736_b888_11ea_86f7_3c9509197fc0row3_col11\" class=\"data row3 col11\" >-0.314775</td>\n",
       "                        <td id=\"T_a4cad736_b888_11ea_86f7_3c9509197fc0row3_col12\" class=\"data row3 col12\" >-0.360228</td>\n",
       "                        <td id=\"T_a4cad736_b888_11ea_86f7_3c9509197fc0row3_col13\" class=\"data row3 col13\" >-0.328578</td>\n",
       "                        <td id=\"T_a4cad736_b888_11ea_86f7_3c9509197fc0row3_col14\" class=\"data row3 col14\" >-0.433845</td>\n",
       "                        <td id=\"T_a4cad736_b888_11ea_86f7_3c9509197fc0row3_col15\" class=\"data row3 col15\" >-0.24052</td>\n",
       "                        <td id=\"T_a4cad736_b888_11ea_86f7_3c9509197fc0row3_col16\" class=\"data row3 col16\" >-0.331826</td>\n",
       "                        <td id=\"T_a4cad736_b888_11ea_86f7_3c9509197fc0row3_col17\" class=\"data row3 col17\" >0.348778</td>\n",
       "                        <td id=\"T_a4cad736_b888_11ea_86f7_3c9509197fc0row3_col18\" class=\"data row3 col18\" >0.427455</td>\n",
       "                        <td id=\"T_a4cad736_b888_11ea_86f7_3c9509197fc0row3_col19\" class=\"data row3 col19\" >-0.336066</td>\n",
       "                        <td id=\"T_a4cad736_b888_11ea_86f7_3c9509197fc0row3_col20\" class=\"data row3 col20\" >-0.0714645</td>\n",
       "                        <td id=\"T_a4cad736_b888_11ea_86f7_3c9509197fc0row3_col21\" class=\"data row3 col21\" >-0.0858028</td>\n",
       "                        <td id=\"T_a4cad736_b888_11ea_86f7_3c9509197fc0row3_col22\" class=\"data row3 col22\" >-0.0213415</td>\n",
       "            </tr>\n",
       "            <tr>\n",
       "                        <th id=\"T_a4cad736_b888_11ea_86f7_3c9509197fc0level0_row4\" class=\"row_heading level0 row4\" >cluster_D_x</th>\n",
       "                        <td id=\"T_a4cad736_b888_11ea_86f7_3c9509197fc0row4_col0\" class=\"data row4 col0\" >0.36185</td>\n",
       "                        <td id=\"T_a4cad736_b888_11ea_86f7_3c9509197fc0row4_col1\" class=\"data row4 col1\" >0.811978</td>\n",
       "                        <td id=\"T_a4cad736_b888_11ea_86f7_3c9509197fc0row4_col2\" class=\"data row4 col2\" >0.219175</td>\n",
       "                        <td id=\"T_a4cad736_b888_11ea_86f7_3c9509197fc0row4_col3\" class=\"data row4 col3\" >0.652275</td>\n",
       "                        <td id=\"T_a4cad736_b888_11ea_86f7_3c9509197fc0row4_col4\" class=\"data row4 col4\" >1</td>\n",
       "                        <td id=\"T_a4cad736_b888_11ea_86f7_3c9509197fc0row4_col5\" class=\"data row4 col5\" >0.443678</td>\n",
       "                        <td id=\"T_a4cad736_b888_11ea_86f7_3c9509197fc0row4_col6\" class=\"data row4 col6\" >0.628172</td>\n",
       "                        <td id=\"T_a4cad736_b888_11ea_86f7_3c9509197fc0row4_col7\" class=\"data row4 col7\" >0.429233</td>\n",
       "                        <td id=\"T_a4cad736_b888_11ea_86f7_3c9509197fc0row4_col8\" class=\"data row4 col8\" >0.697334</td>\n",
       "                        <td id=\"T_a4cad736_b888_11ea_86f7_3c9509197fc0row4_col9\" class=\"data row4 col9\" >0.922221</td>\n",
       "                        <td id=\"T_a4cad736_b888_11ea_86f7_3c9509197fc0row4_col10\" class=\"data row4 col10\" >-0.0141817</td>\n",
       "                        <td id=\"T_a4cad736_b888_11ea_86f7_3c9509197fc0row4_col11\" class=\"data row4 col11\" >-0.269572</td>\n",
       "                        <td id=\"T_a4cad736_b888_11ea_86f7_3c9509197fc0row4_col12\" class=\"data row4 col12\" >-0.269581</td>\n",
       "                        <td id=\"T_a4cad736_b888_11ea_86f7_3c9509197fc0row4_col13\" class=\"data row4 col13\" >-0.272618</td>\n",
       "                        <td id=\"T_a4cad736_b888_11ea_86f7_3c9509197fc0row4_col14\" class=\"data row4 col14\" >-0.327825</td>\n",
       "                        <td id=\"T_a4cad736_b888_11ea_86f7_3c9509197fc0row4_col15\" class=\"data row4 col15\" >-0.195223</td>\n",
       "                        <td id=\"T_a4cad736_b888_11ea_86f7_3c9509197fc0row4_col16\" class=\"data row4 col16\" >-0.241948</td>\n",
       "                        <td id=\"T_a4cad736_b888_11ea_86f7_3c9509197fc0row4_col17\" class=\"data row4 col17\" >0.320427</td>\n",
       "                        <td id=\"T_a4cad736_b888_11ea_86f7_3c9509197fc0row4_col18\" class=\"data row4 col18\" >0.367372</td>\n",
       "                        <td id=\"T_a4cad736_b888_11ea_86f7_3c9509197fc0row4_col19\" class=\"data row4 col19\" >-0.30247</td>\n",
       "                        <td id=\"T_a4cad736_b888_11ea_86f7_3c9509197fc0row4_col20\" class=\"data row4 col20\" >-0.0762635</td>\n",
       "                        <td id=\"T_a4cad736_b888_11ea_86f7_3c9509197fc0row4_col21\" class=\"data row4 col21\" >-0.0622566</td>\n",
       "                        <td id=\"T_a4cad736_b888_11ea_86f7_3c9509197fc0row4_col22\" class=\"data row4 col22\" >-0.0316122</td>\n",
       "            </tr>\n",
       "            <tr>\n",
       "                        <th id=\"T_a4cad736_b888_11ea_86f7_3c9509197fc0level0_row5\" class=\"row_heading level0 row5\" >distance1_2_y</th>\n",
       "                        <td id=\"T_a4cad736_b888_11ea_86f7_3c9509197fc0row5_col0\" class=\"data row5 col0\" >0.759874</td>\n",
       "                        <td id=\"T_a4cad736_b888_11ea_86f7_3c9509197fc0row5_col1\" class=\"data row5 col1\" >0.484154</td>\n",
       "                        <td id=\"T_a4cad736_b888_11ea_86f7_3c9509197fc0row5_col2\" class=\"data row5 col2\" >0.261618</td>\n",
       "                        <td id=\"T_a4cad736_b888_11ea_86f7_3c9509197fc0row5_col3\" class=\"data row5 col3\" >0.529731</td>\n",
       "                        <td id=\"T_a4cad736_b888_11ea_86f7_3c9509197fc0row5_col4\" class=\"data row5 col4\" >0.443678</td>\n",
       "                        <td id=\"T_a4cad736_b888_11ea_86f7_3c9509197fc0row5_col5\" class=\"data row5 col5\" >1</td>\n",
       "                        <td id=\"T_a4cad736_b888_11ea_86f7_3c9509197fc0row5_col6\" class=\"data row5 col6\" >0.327116</td>\n",
       "                        <td id=\"T_a4cad736_b888_11ea_86f7_3c9509197fc0row5_col7\" class=\"data row5 col7\" >0.607781</td>\n",
       "                        <td id=\"T_a4cad736_b888_11ea_86f7_3c9509197fc0row5_col8\" class=\"data row5 col8\" >0.569336</td>\n",
       "                        <td id=\"T_a4cad736_b888_11ea_86f7_3c9509197fc0row5_col9\" class=\"data row5 col9\" >0.408853</td>\n",
       "                        <td id=\"T_a4cad736_b888_11ea_86f7_3c9509197fc0row5_col10\" class=\"data row5 col10\" >-0.0765011</td>\n",
       "                        <td id=\"T_a4cad736_b888_11ea_86f7_3c9509197fc0row5_col11\" class=\"data row5 col11\" >-0.17314</td>\n",
       "                        <td id=\"T_a4cad736_b888_11ea_86f7_3c9509197fc0row5_col12\" class=\"data row5 col12\" >-0.241717</td>\n",
       "                        <td id=\"T_a4cad736_b888_11ea_86f7_3c9509197fc0row5_col13\" class=\"data row5 col13\" >-0.150829</td>\n",
       "                        <td id=\"T_a4cad736_b888_11ea_86f7_3c9509197fc0row5_col14\" class=\"data row5 col14\" >-0.297125</td>\n",
       "                        <td id=\"T_a4cad736_b888_11ea_86f7_3c9509197fc0row5_col15\" class=\"data row5 col15\" >-0.103853</td>\n",
       "                        <td id=\"T_a4cad736_b888_11ea_86f7_3c9509197fc0row5_col16\" class=\"data row5 col16\" >-0.224151</td>\n",
       "                        <td id=\"T_a4cad736_b888_11ea_86f7_3c9509197fc0row5_col17\" class=\"data row5 col17\" >0.344565</td>\n",
       "                        <td id=\"T_a4cad736_b888_11ea_86f7_3c9509197fc0row5_col18\" class=\"data row5 col18\" >0.334236</td>\n",
       "                        <td id=\"T_a4cad736_b888_11ea_86f7_3c9509197fc0row5_col19\" class=\"data row5 col19\" >-0.222776</td>\n",
       "                        <td id=\"T_a4cad736_b888_11ea_86f7_3c9509197fc0row5_col20\" class=\"data row5 col20\" >-0.0998646</td>\n",
       "                        <td id=\"T_a4cad736_b888_11ea_86f7_3c9509197fc0row5_col21\" class=\"data row5 col21\" >-0.076022</td>\n",
       "                        <td id=\"T_a4cad736_b888_11ea_86f7_3c9509197fc0row5_col22\" class=\"data row5 col22\" >0.0542857</td>\n",
       "            </tr>\n",
       "            <tr>\n",
       "                        <th id=\"T_a4cad736_b888_11ea_86f7_3c9509197fc0level0_row6\" class=\"row_heading level0 row6\" >distance3_4_y</th>\n",
       "                        <td id=\"T_a4cad736_b888_11ea_86f7_3c9509197fc0row6_col0\" class=\"data row6 col0\" >0.15439</td>\n",
       "                        <td id=\"T_a4cad736_b888_11ea_86f7_3c9509197fc0row6_col1\" class=\"data row6 col1\" >0.679887</td>\n",
       "                        <td id=\"T_a4cad736_b888_11ea_86f7_3c9509197fc0row6_col2\" class=\"data row6 col2\" >0.116764</td>\n",
       "                        <td id=\"T_a4cad736_b888_11ea_86f7_3c9509197fc0row6_col3\" class=\"data row6 col3\" >0.473086</td>\n",
       "                        <td id=\"T_a4cad736_b888_11ea_86f7_3c9509197fc0row6_col4\" class=\"data row6 col4\" >0.628172</td>\n",
       "                        <td id=\"T_a4cad736_b888_11ea_86f7_3c9509197fc0row6_col5\" class=\"data row6 col5\" >0.327116</td>\n",
       "                        <td id=\"T_a4cad736_b888_11ea_86f7_3c9509197fc0row6_col6\" class=\"data row6 col6\" >1</td>\n",
       "                        <td id=\"T_a4cad736_b888_11ea_86f7_3c9509197fc0row6_col7\" class=\"data row6 col7\" >0.373405</td>\n",
       "                        <td id=\"T_a4cad736_b888_11ea_86f7_3c9509197fc0row6_col8\" class=\"data row6 col8\" >0.571373</td>\n",
       "                        <td id=\"T_a4cad736_b888_11ea_86f7_3c9509197fc0row6_col9\" class=\"data row6 col9\" >0.667721</td>\n",
       "                        <td id=\"T_a4cad736_b888_11ea_86f7_3c9509197fc0row6_col10\" class=\"data row6 col10\" >0.442877</td>\n",
       "                        <td id=\"T_a4cad736_b888_11ea_86f7_3c9509197fc0row6_col11\" class=\"data row6 col11\" >-0.208553</td>\n",
       "                        <td id=\"T_a4cad736_b888_11ea_86f7_3c9509197fc0row6_col12\" class=\"data row6 col12\" >-0.152318</td>\n",
       "                        <td id=\"T_a4cad736_b888_11ea_86f7_3c9509197fc0row6_col13\" class=\"data row6 col13\" >-0.272911</td>\n",
       "                        <td id=\"T_a4cad736_b888_11ea_86f7_3c9509197fc0row6_col14\" class=\"data row6 col14\" >-0.207148</td>\n",
       "                        <td id=\"T_a4cad736_b888_11ea_86f7_3c9509197fc0row6_col15\" class=\"data row6 col15\" >-0.196224</td>\n",
       "                        <td id=\"T_a4cad736_b888_11ea_86f7_3c9509197fc0row6_col16\" class=\"data row6 col16\" >-0.166416</td>\n",
       "                        <td id=\"T_a4cad736_b888_11ea_86f7_3c9509197fc0row6_col17\" class=\"data row6 col17\" >0.1698</td>\n",
       "                        <td id=\"T_a4cad736_b888_11ea_86f7_3c9509197fc0row6_col18\" class=\"data row6 col18\" >0.176359</td>\n",
       "                        <td id=\"T_a4cad736_b888_11ea_86f7_3c9509197fc0row6_col19\" class=\"data row6 col19\" >-0.187244</td>\n",
       "                        <td id=\"T_a4cad736_b888_11ea_86f7_3c9509197fc0row6_col20\" class=\"data row6 col20\" >0.166485</td>\n",
       "                        <td id=\"T_a4cad736_b888_11ea_86f7_3c9509197fc0row6_col21\" class=\"data row6 col21\" >-0.033826</td>\n",
       "                        <td id=\"T_a4cad736_b888_11ea_86f7_3c9509197fc0row6_col22\" class=\"data row6 col22\" >0.0492621</td>\n",
       "            </tr>\n",
       "            <tr>\n",
       "                        <th id=\"T_a4cad736_b888_11ea_86f7_3c9509197fc0level0_row7\" class=\"row_heading level0 row7\" >cluster_B_y</th>\n",
       "                        <td id=\"T_a4cad736_b888_11ea_86f7_3c9509197fc0row7_col0\" class=\"data row7 col0\" >0.347467</td>\n",
       "                        <td id=\"T_a4cad736_b888_11ea_86f7_3c9509197fc0row7_col1\" class=\"data row7 col1\" >0.41519</td>\n",
       "                        <td id=\"T_a4cad736_b888_11ea_86f7_3c9509197fc0row7_col2\" class=\"data row7 col2\" >0.681127</td>\n",
       "                        <td id=\"T_a4cad736_b888_11ea_86f7_3c9509197fc0row7_col3\" class=\"data row7 col3\" >0.667792</td>\n",
       "                        <td id=\"T_a4cad736_b888_11ea_86f7_3c9509197fc0row7_col4\" class=\"data row7 col4\" >0.429233</td>\n",
       "                        <td id=\"T_a4cad736_b888_11ea_86f7_3c9509197fc0row7_col5\" class=\"data row7 col5\" >0.607781</td>\n",
       "                        <td id=\"T_a4cad736_b888_11ea_86f7_3c9509197fc0row7_col6\" class=\"data row7 col6\" >0.373405</td>\n",
       "                        <td id=\"T_a4cad736_b888_11ea_86f7_3c9509197fc0row7_col7\" class=\"data row7 col7\" >1</td>\n",
       "                        <td id=\"T_a4cad736_b888_11ea_86f7_3c9509197fc0row7_col8\" class=\"data row7 col8\" >0.639744</td>\n",
       "                        <td id=\"T_a4cad736_b888_11ea_86f7_3c9509197fc0row7_col9\" class=\"data row7 col9\" >0.376995</td>\n",
       "                        <td id=\"T_a4cad736_b888_11ea_86f7_3c9509197fc0row7_col10\" class=\"data row7 col10\" >0.104115</td>\n",
       "                        <td id=\"T_a4cad736_b888_11ea_86f7_3c9509197fc0row7_col11\" class=\"data row7 col11\" >-0.228196</td>\n",
       "                        <td id=\"T_a4cad736_b888_11ea_86f7_3c9509197fc0row7_col12\" class=\"data row7 col12\" >-0.308498</td>\n",
       "                        <td id=\"T_a4cad736_b888_11ea_86f7_3c9509197fc0row7_col13\" class=\"data row7 col13\" >-0.227311</td>\n",
       "                        <td id=\"T_a4cad736_b888_11ea_86f7_3c9509197fc0row7_col14\" class=\"data row7 col14\" >-0.374532</td>\n",
       "                        <td id=\"T_a4cad736_b888_11ea_86f7_3c9509197fc0row7_col15\" class=\"data row7 col15\" >-0.163699</td>\n",
       "                        <td id=\"T_a4cad736_b888_11ea_86f7_3c9509197fc0row7_col16\" class=\"data row7 col16\" >-0.297376</td>\n",
       "                        <td id=\"T_a4cad736_b888_11ea_86f7_3c9509197fc0row7_col17\" class=\"data row7 col17\" >0.25738</td>\n",
       "                        <td id=\"T_a4cad736_b888_11ea_86f7_3c9509197fc0row7_col18\" class=\"data row7 col18\" >0.349577</td>\n",
       "                        <td id=\"T_a4cad736_b888_11ea_86f7_3c9509197fc0row7_col19\" class=\"data row7 col19\" >-0.208199</td>\n",
       "                        <td id=\"T_a4cad736_b888_11ea_86f7_3c9509197fc0row7_col20\" class=\"data row7 col20\" >-0.0671918</td>\n",
       "                        <td id=\"T_a4cad736_b888_11ea_86f7_3c9509197fc0row7_col21\" class=\"data row7 col21\" >-0.0572977</td>\n",
       "                        <td id=\"T_a4cad736_b888_11ea_86f7_3c9509197fc0row7_col22\" class=\"data row7 col22\" >0.028957</td>\n",
       "            </tr>\n",
       "            <tr>\n",
       "                        <th id=\"T_a4cad736_b888_11ea_86f7_3c9509197fc0level0_row8\" class=\"row_heading level0 row8\" >cluster_C_y</th>\n",
       "                        <td id=\"T_a4cad736_b888_11ea_86f7_3c9509197fc0row8_col0\" class=\"data row8 col0\" >0.375799</td>\n",
       "                        <td id=\"T_a4cad736_b888_11ea_86f7_3c9509197fc0row8_col1\" class=\"data row8 col1\" >0.626462</td>\n",
       "                        <td id=\"T_a4cad736_b888_11ea_86f7_3c9509197fc0row8_col2\" class=\"data row8 col2\" >0.275687</td>\n",
       "                        <td id=\"T_a4cad736_b888_11ea_86f7_3c9509197fc0row8_col3\" class=\"data row8 col3\" >0.882083</td>\n",
       "                        <td id=\"T_a4cad736_b888_11ea_86f7_3c9509197fc0row8_col4\" class=\"data row8 col4\" >0.697334</td>\n",
       "                        <td id=\"T_a4cad736_b888_11ea_86f7_3c9509197fc0row8_col5\" class=\"data row8 col5\" >0.569336</td>\n",
       "                        <td id=\"T_a4cad736_b888_11ea_86f7_3c9509197fc0row8_col6\" class=\"data row8 col6\" >0.571373</td>\n",
       "                        <td id=\"T_a4cad736_b888_11ea_86f7_3c9509197fc0row8_col7\" class=\"data row8 col7\" >0.639744</td>\n",
       "                        <td id=\"T_a4cad736_b888_11ea_86f7_3c9509197fc0row8_col8\" class=\"data row8 col8\" >1</td>\n",
       "                        <td id=\"T_a4cad736_b888_11ea_86f7_3c9509197fc0row8_col9\" class=\"data row8 col9\" >0.668891</td>\n",
       "                        <td id=\"T_a4cad736_b888_11ea_86f7_3c9509197fc0row8_col10\" class=\"data row8 col10\" >0.042148</td>\n",
       "                        <td id=\"T_a4cad736_b888_11ea_86f7_3c9509197fc0row8_col11\" class=\"data row8 col11\" >-0.272477</td>\n",
       "                        <td id=\"T_a4cad736_b888_11ea_86f7_3c9509197fc0row8_col12\" class=\"data row8 col12\" >-0.290095</td>\n",
       "                        <td id=\"T_a4cad736_b888_11ea_86f7_3c9509197fc0row8_col13\" class=\"data row8 col13\" >-0.270378</td>\n",
       "                        <td id=\"T_a4cad736_b888_11ea_86f7_3c9509197fc0row8_col14\" class=\"data row8 col14\" >-0.354506</td>\n",
       "                        <td id=\"T_a4cad736_b888_11ea_86f7_3c9509197fc0row8_col15\" class=\"data row8 col15\" >-0.197127</td>\n",
       "                        <td id=\"T_a4cad736_b888_11ea_86f7_3c9509197fc0row8_col16\" class=\"data row8 col16\" >-0.269063</td>\n",
       "                        <td id=\"T_a4cad736_b888_11ea_86f7_3c9509197fc0row8_col17\" class=\"data row8 col17\" >0.284024</td>\n",
       "                        <td id=\"T_a4cad736_b888_11ea_86f7_3c9509197fc0row8_col18\" class=\"data row8 col18\" >0.360024</td>\n",
       "                        <td id=\"T_a4cad736_b888_11ea_86f7_3c9509197fc0row8_col19\" class=\"data row8 col19\" >-0.255134</td>\n",
       "                        <td id=\"T_a4cad736_b888_11ea_86f7_3c9509197fc0row8_col20\" class=\"data row8 col20\" >-0.0674363</td>\n",
       "                        <td id=\"T_a4cad736_b888_11ea_86f7_3c9509197fc0row8_col21\" class=\"data row8 col21\" >-0.0485885</td>\n",
       "                        <td id=\"T_a4cad736_b888_11ea_86f7_3c9509197fc0row8_col22\" class=\"data row8 col22\" >0.0223094</td>\n",
       "            </tr>\n",
       "            <tr>\n",
       "                        <th id=\"T_a4cad736_b888_11ea_86f7_3c9509197fc0level0_row9\" class=\"row_heading level0 row9\" >cluster_D_y</th>\n",
       "                        <td id=\"T_a4cad736_b888_11ea_86f7_3c9509197fc0row9_col0\" class=\"data row9 col0\" >0.302084</td>\n",
       "                        <td id=\"T_a4cad736_b888_11ea_86f7_3c9509197fc0row9_col1\" class=\"data row9 col1\" >0.800824</td>\n",
       "                        <td id=\"T_a4cad736_b888_11ea_86f7_3c9509197fc0row9_col2\" class=\"data row9 col2\" >0.152003</td>\n",
       "                        <td id=\"T_a4cad736_b888_11ea_86f7_3c9509197fc0row9_col3\" class=\"data row9 col3\" >0.557412</td>\n",
       "                        <td id=\"T_a4cad736_b888_11ea_86f7_3c9509197fc0row9_col4\" class=\"data row9 col4\" >0.922221</td>\n",
       "                        <td id=\"T_a4cad736_b888_11ea_86f7_3c9509197fc0row9_col5\" class=\"data row9 col5\" >0.408853</td>\n",
       "                        <td id=\"T_a4cad736_b888_11ea_86f7_3c9509197fc0row9_col6\" class=\"data row9 col6\" >0.667721</td>\n",
       "                        <td id=\"T_a4cad736_b888_11ea_86f7_3c9509197fc0row9_col7\" class=\"data row9 col7\" >0.376995</td>\n",
       "                        <td id=\"T_a4cad736_b888_11ea_86f7_3c9509197fc0row9_col8\" class=\"data row9 col8\" >0.668891</td>\n",
       "                        <td id=\"T_a4cad736_b888_11ea_86f7_3c9509197fc0row9_col9\" class=\"data row9 col9\" >1</td>\n",
       "                        <td id=\"T_a4cad736_b888_11ea_86f7_3c9509197fc0row9_col10\" class=\"data row9 col10\" >-0.00838098</td>\n",
       "                        <td id=\"T_a4cad736_b888_11ea_86f7_3c9509197fc0row9_col11\" class=\"data row9 col11\" >-0.225049</td>\n",
       "                        <td id=\"T_a4cad736_b888_11ea_86f7_3c9509197fc0row9_col12\" class=\"data row9 col12\" >-0.21407</td>\n",
       "                        <td id=\"T_a4cad736_b888_11ea_86f7_3c9509197fc0row9_col13\" class=\"data row9 col13\" >-0.222485</td>\n",
       "                        <td id=\"T_a4cad736_b888_11ea_86f7_3c9509197fc0row9_col14\" class=\"data row9 col14\" >-0.263002</td>\n",
       "                        <td id=\"T_a4cad736_b888_11ea_86f7_3c9509197fc0row9_col15\" class=\"data row9 col15\" >-0.159061</td>\n",
       "                        <td id=\"T_a4cad736_b888_11ea_86f7_3c9509197fc0row9_col16\" class=\"data row9 col16\" >-0.192889</td>\n",
       "                        <td id=\"T_a4cad736_b888_11ea_86f7_3c9509197fc0row9_col17\" class=\"data row9 col17\" >0.24459</td>\n",
       "                        <td id=\"T_a4cad736_b888_11ea_86f7_3c9509197fc0row9_col18\" class=\"data row9 col18\" >0.291881</td>\n",
       "                        <td id=\"T_a4cad736_b888_11ea_86f7_3c9509197fc0row9_col19\" class=\"data row9 col19\" >-0.228476</td>\n",
       "                        <td id=\"T_a4cad736_b888_11ea_86f7_3c9509197fc0row9_col20\" class=\"data row9 col20\" >-0.0573846</td>\n",
       "                        <td id=\"T_a4cad736_b888_11ea_86f7_3c9509197fc0row9_col21\" class=\"data row9 col21\" >-0.0351114</td>\n",
       "                        <td id=\"T_a4cad736_b888_11ea_86f7_3c9509197fc0row9_col22\" class=\"data row9 col22\" >-0.00814767</td>\n",
       "            </tr>\n",
       "            <tr>\n",
       "                        <th id=\"T_a4cad736_b888_11ea_86f7_3c9509197fc0level0_row10\" class=\"row_heading level0 row10\" >agility_y</th>\n",
       "                        <td id=\"T_a4cad736_b888_11ea_86f7_3c9509197fc0row10_col0\" class=\"data row10 col0\" >-0.121588</td>\n",
       "                        <td id=\"T_a4cad736_b888_11ea_86f7_3c9509197fc0row10_col1\" class=\"data row10 col1\" >0.036444</td>\n",
       "                        <td id=\"T_a4cad736_b888_11ea_86f7_3c9509197fc0row10_col2\" class=\"data row10 col2\" >0.0777444</td>\n",
       "                        <td id=\"T_a4cad736_b888_11ea_86f7_3c9509197fc0row10_col3\" class=\"data row10 col3\" >0.0569772</td>\n",
       "                        <td id=\"T_a4cad736_b888_11ea_86f7_3c9509197fc0row10_col4\" class=\"data row10 col4\" >-0.0141817</td>\n",
       "                        <td id=\"T_a4cad736_b888_11ea_86f7_3c9509197fc0row10_col5\" class=\"data row10 col5\" >-0.0765011</td>\n",
       "                        <td id=\"T_a4cad736_b888_11ea_86f7_3c9509197fc0row10_col6\" class=\"data row10 col6\" >0.442877</td>\n",
       "                        <td id=\"T_a4cad736_b888_11ea_86f7_3c9509197fc0row10_col7\" class=\"data row10 col7\" >0.104115</td>\n",
       "                        <td id=\"T_a4cad736_b888_11ea_86f7_3c9509197fc0row10_col8\" class=\"data row10 col8\" >0.042148</td>\n",
       "                        <td id=\"T_a4cad736_b888_11ea_86f7_3c9509197fc0row10_col9\" class=\"data row10 col9\" >-0.00838098</td>\n",
       "                        <td id=\"T_a4cad736_b888_11ea_86f7_3c9509197fc0row10_col10\" class=\"data row10 col10\" >1</td>\n",
       "                        <td id=\"T_a4cad736_b888_11ea_86f7_3c9509197fc0row10_col11\" class=\"data row10 col11\" >-0.0369119</td>\n",
       "                        <td id=\"T_a4cad736_b888_11ea_86f7_3c9509197fc0row10_col12\" class=\"data row10 col12\" >0.00662559</td>\n",
       "                        <td id=\"T_a4cad736_b888_11ea_86f7_3c9509197fc0row10_col13\" class=\"data row10 col13\" >-0.0924324</td>\n",
       "                        <td id=\"T_a4cad736_b888_11ea_86f7_3c9509197fc0row10_col14\" class=\"data row10 col14\" >-0.0300466</td>\n",
       "                        <td id=\"T_a4cad736_b888_11ea_86f7_3c9509197fc0row10_col15\" class=\"data row10 col15\" >-0.0738874</td>\n",
       "                        <td id=\"T_a4cad736_b888_11ea_86f7_3c9509197fc0row10_col16\" class=\"data row10 col16\" >-0.0491728</td>\n",
       "                        <td id=\"T_a4cad736_b888_11ea_86f7_3c9509197fc0row10_col17\" class=\"data row10 col17\" >-0.0629009</td>\n",
       "                        <td id=\"T_a4cad736_b888_11ea_86f7_3c9509197fc0row10_col18\" class=\"data row10 col18\" >-0.0729999</td>\n",
       "                        <td id=\"T_a4cad736_b888_11ea_86f7_3c9509197fc0row10_col19\" class=\"data row10 col19\" >-0.0189698</td>\n",
       "                        <td id=\"T_a4cad736_b888_11ea_86f7_3c9509197fc0row10_col20\" class=\"data row10 col20\" >0.347885</td>\n",
       "                        <td id=\"T_a4cad736_b888_11ea_86f7_3c9509197fc0row10_col21\" class=\"data row10 col21\" >-0.00154565</td>\n",
       "                        <td id=\"T_a4cad736_b888_11ea_86f7_3c9509197fc0row10_col22\" class=\"data row10 col22\" >0.361424</td>\n",
       "            </tr>\n",
       "            <tr>\n",
       "                        <th id=\"T_a4cad736_b888_11ea_86f7_3c9509197fc0level0_row11\" class=\"row_heading level0 row11\" >landing_risk1</th>\n",
       "                        <td id=\"T_a4cad736_b888_11ea_86f7_3c9509197fc0row11_col0\" class=\"data row11 col0\" >-0.173454</td>\n",
       "                        <td id=\"T_a4cad736_b888_11ea_86f7_3c9509197fc0row11_col1\" class=\"data row11 col1\" >-0.247628</td>\n",
       "                        <td id=\"T_a4cad736_b888_11ea_86f7_3c9509197fc0row11_col2\" class=\"data row11 col2\" >-0.198956</td>\n",
       "                        <td id=\"T_a4cad736_b888_11ea_86f7_3c9509197fc0row11_col3\" class=\"data row11 col3\" >-0.314775</td>\n",
       "                        <td id=\"T_a4cad736_b888_11ea_86f7_3c9509197fc0row11_col4\" class=\"data row11 col4\" >-0.269572</td>\n",
       "                        <td id=\"T_a4cad736_b888_11ea_86f7_3c9509197fc0row11_col5\" class=\"data row11 col5\" >-0.17314</td>\n",
       "                        <td id=\"T_a4cad736_b888_11ea_86f7_3c9509197fc0row11_col6\" class=\"data row11 col6\" >-0.208553</td>\n",
       "                        <td id=\"T_a4cad736_b888_11ea_86f7_3c9509197fc0row11_col7\" class=\"data row11 col7\" >-0.228196</td>\n",
       "                        <td id=\"T_a4cad736_b888_11ea_86f7_3c9509197fc0row11_col8\" class=\"data row11 col8\" >-0.272477</td>\n",
       "                        <td id=\"T_a4cad736_b888_11ea_86f7_3c9509197fc0row11_col9\" class=\"data row11 col9\" >-0.225049</td>\n",
       "                        <td id=\"T_a4cad736_b888_11ea_86f7_3c9509197fc0row11_col10\" class=\"data row11 col10\" >-0.0369119</td>\n",
       "                        <td id=\"T_a4cad736_b888_11ea_86f7_3c9509197fc0row11_col11\" class=\"data row11 col11\" >1</td>\n",
       "                        <td id=\"T_a4cad736_b888_11ea_86f7_3c9509197fc0row11_col12\" class=\"data row11 col12\" >0.449039</td>\n",
       "                        <td id=\"T_a4cad736_b888_11ea_86f7_3c9509197fc0row11_col13\" class=\"data row11 col13\" >0.65833</td>\n",
       "                        <td id=\"T_a4cad736_b888_11ea_86f7_3c9509197fc0row11_col14\" class=\"data row11 col14\" >0.532076</td>\n",
       "                        <td id=\"T_a4cad736_b888_11ea_86f7_3c9509197fc0row11_col15\" class=\"data row11 col15\" >0.592007</td>\n",
       "                        <td id=\"T_a4cad736_b888_11ea_86f7_3c9509197fc0row11_col16\" class=\"data row11 col16\" >0.461816</td>\n",
       "                        <td id=\"T_a4cad736_b888_11ea_86f7_3c9509197fc0row11_col17\" class=\"data row11 col17\" >-0.26312</td>\n",
       "                        <td id=\"T_a4cad736_b888_11ea_86f7_3c9509197fc0row11_col18\" class=\"data row11 col18\" >-0.293404</td>\n",
       "                        <td id=\"T_a4cad736_b888_11ea_86f7_3c9509197fc0row11_col19\" class=\"data row11 col19\" >0.42157</td>\n",
       "                        <td id=\"T_a4cad736_b888_11ea_86f7_3c9509197fc0row11_col20\" class=\"data row11 col20\" >-0.00137231</td>\n",
       "                        <td id=\"T_a4cad736_b888_11ea_86f7_3c9509197fc0row11_col21\" class=\"data row11 col21\" >0.0854297</td>\n",
       "                        <td id=\"T_a4cad736_b888_11ea_86f7_3c9509197fc0row11_col22\" class=\"data row11 col22\" >-0.0167335</td>\n",
       "            </tr>\n",
       "            <tr>\n",
       "                        <th id=\"T_a4cad736_b888_11ea_86f7_3c9509197fc0level0_row12\" class=\"row_heading level0 row12\" >landing_risk4</th>\n",
       "                        <td id=\"T_a4cad736_b888_11ea_86f7_3c9509197fc0row12_col0\" class=\"data row12 col0\" >-0.23653</td>\n",
       "                        <td id=\"T_a4cad736_b888_11ea_86f7_3c9509197fc0row12_col1\" class=\"data row12 col1\" >-0.255173</td>\n",
       "                        <td id=\"T_a4cad736_b888_11ea_86f7_3c9509197fc0row12_col2\" class=\"data row12 col2\" >-0.279179</td>\n",
       "                        <td id=\"T_a4cad736_b888_11ea_86f7_3c9509197fc0row12_col3\" class=\"data row12 col3\" >-0.360228</td>\n",
       "                        <td id=\"T_a4cad736_b888_11ea_86f7_3c9509197fc0row12_col4\" class=\"data row12 col4\" >-0.269581</td>\n",
       "                        <td id=\"T_a4cad736_b888_11ea_86f7_3c9509197fc0row12_col5\" class=\"data row12 col5\" >-0.241717</td>\n",
       "                        <td id=\"T_a4cad736_b888_11ea_86f7_3c9509197fc0row12_col6\" class=\"data row12 col6\" >-0.152318</td>\n",
       "                        <td id=\"T_a4cad736_b888_11ea_86f7_3c9509197fc0row12_col7\" class=\"data row12 col7\" >-0.308498</td>\n",
       "                        <td id=\"T_a4cad736_b888_11ea_86f7_3c9509197fc0row12_col8\" class=\"data row12 col8\" >-0.290095</td>\n",
       "                        <td id=\"T_a4cad736_b888_11ea_86f7_3c9509197fc0row12_col9\" class=\"data row12 col9\" >-0.21407</td>\n",
       "                        <td id=\"T_a4cad736_b888_11ea_86f7_3c9509197fc0row12_col10\" class=\"data row12 col10\" >0.00662559</td>\n",
       "                        <td id=\"T_a4cad736_b888_11ea_86f7_3c9509197fc0row12_col11\" class=\"data row12 col11\" >0.449039</td>\n",
       "                        <td id=\"T_a4cad736_b888_11ea_86f7_3c9509197fc0row12_col12\" class=\"data row12 col12\" >1</td>\n",
       "                        <td id=\"T_a4cad736_b888_11ea_86f7_3c9509197fc0row12_col13\" class=\"data row12 col13\" >0.38114</td>\n",
       "                        <td id=\"T_a4cad736_b888_11ea_86f7_3c9509197fc0row12_col14\" class=\"data row12 col14\" >0.530328</td>\n",
       "                        <td id=\"T_a4cad736_b888_11ea_86f7_3c9509197fc0row12_col15\" class=\"data row12 col15\" >0.292622</td>\n",
       "                        <td id=\"T_a4cad736_b888_11ea_86f7_3c9509197fc0row12_col16\" class=\"data row12 col16\" >0.443421</td>\n",
       "                        <td id=\"T_a4cad736_b888_11ea_86f7_3c9509197fc0row12_col17\" class=\"data row12 col17\" >-0.270322</td>\n",
       "                        <td id=\"T_a4cad736_b888_11ea_86f7_3c9509197fc0row12_col18\" class=\"data row12 col18\" >-0.316688</td>\n",
       "                        <td id=\"T_a4cad736_b888_11ea_86f7_3c9509197fc0row12_col19\" class=\"data row12 col19\" >0.351762</td>\n",
       "                        <td id=\"T_a4cad736_b888_11ea_86f7_3c9509197fc0row12_col20\" class=\"data row12 col20\" >0.0530134</td>\n",
       "                        <td id=\"T_a4cad736_b888_11ea_86f7_3c9509197fc0row12_col21\" class=\"data row12 col21\" >0.0923556</td>\n",
       "                        <td id=\"T_a4cad736_b888_11ea_86f7_3c9509197fc0row12_col22\" class=\"data row12 col22\" >-0.0230428</td>\n",
       "            </tr>\n",
       "            <tr>\n",
       "                        <th id=\"T_a4cad736_b888_11ea_86f7_3c9509197fc0level0_row13\" class=\"row_heading level0 row13\" >risk1</th>\n",
       "                        <td id=\"T_a4cad736_b888_11ea_86f7_3c9509197fc0row13_col0\" class=\"data row13 col0\" >-0.150584</td>\n",
       "                        <td id=\"T_a4cad736_b888_11ea_86f7_3c9509197fc0row13_col1\" class=\"data row13 col1\" >-0.241907</td>\n",
       "                        <td id=\"T_a4cad736_b888_11ea_86f7_3c9509197fc0row13_col2\" class=\"data row13 col2\" >-0.230232</td>\n",
       "                        <td id=\"T_a4cad736_b888_11ea_86f7_3c9509197fc0row13_col3\" class=\"data row13 col3\" >-0.328578</td>\n",
       "                        <td id=\"T_a4cad736_b888_11ea_86f7_3c9509197fc0row13_col4\" class=\"data row13 col4\" >-0.272618</td>\n",
       "                        <td id=\"T_a4cad736_b888_11ea_86f7_3c9509197fc0row13_col5\" class=\"data row13 col5\" >-0.150829</td>\n",
       "                        <td id=\"T_a4cad736_b888_11ea_86f7_3c9509197fc0row13_col6\" class=\"data row13 col6\" >-0.272911</td>\n",
       "                        <td id=\"T_a4cad736_b888_11ea_86f7_3c9509197fc0row13_col7\" class=\"data row13 col7\" >-0.227311</td>\n",
       "                        <td id=\"T_a4cad736_b888_11ea_86f7_3c9509197fc0row13_col8\" class=\"data row13 col8\" >-0.270378</td>\n",
       "                        <td id=\"T_a4cad736_b888_11ea_86f7_3c9509197fc0row13_col9\" class=\"data row13 col9\" >-0.222485</td>\n",
       "                        <td id=\"T_a4cad736_b888_11ea_86f7_3c9509197fc0row13_col10\" class=\"data row13 col10\" >-0.0924324</td>\n",
       "                        <td id=\"T_a4cad736_b888_11ea_86f7_3c9509197fc0row13_col11\" class=\"data row13 col11\" >0.65833</td>\n",
       "                        <td id=\"T_a4cad736_b888_11ea_86f7_3c9509197fc0row13_col12\" class=\"data row13 col12\" >0.38114</td>\n",
       "                        <td id=\"T_a4cad736_b888_11ea_86f7_3c9509197fc0row13_col13\" class=\"data row13 col13\" >1</td>\n",
       "                        <td id=\"T_a4cad736_b888_11ea_86f7_3c9509197fc0row13_col14\" class=\"data row13 col14\" >0.672646</td>\n",
       "                        <td id=\"T_a4cad736_b888_11ea_86f7_3c9509197fc0row13_col15\" class=\"data row13 col15\" >0.919841</td>\n",
       "                        <td id=\"T_a4cad736_b888_11ea_86f7_3c9509197fc0row13_col16\" class=\"data row13 col16\" >0.590935</td>\n",
       "                        <td id=\"T_a4cad736_b888_11ea_86f7_3c9509197fc0row13_col17\" class=\"data row13 col17\" >-0.280143</td>\n",
       "                        <td id=\"T_a4cad736_b888_11ea_86f7_3c9509197fc0row13_col18\" class=\"data row13 col18\" >-0.304674</td>\n",
       "                        <td id=\"T_a4cad736_b888_11ea_86f7_3c9509197fc0row13_col19\" class=\"data row13 col19\" >0.499819</td>\n",
       "                        <td id=\"T_a4cad736_b888_11ea_86f7_3c9509197fc0row13_col20\" class=\"data row13 col20\" >-0.0624798</td>\n",
       "                        <td id=\"T_a4cad736_b888_11ea_86f7_3c9509197fc0row13_col21\" class=\"data row13 col21\" >0.0725177</td>\n",
       "                        <td id=\"T_a4cad736_b888_11ea_86f7_3c9509197fc0row13_col22\" class=\"data row13 col22\" >0.0842766</td>\n",
       "            </tr>\n",
       "            <tr>\n",
       "                        <th id=\"T_a4cad736_b888_11ea_86f7_3c9509197fc0level0_row14\" class=\"row_heading level0 row14\" >risk4</th>\n",
       "                        <td id=\"T_a4cad736_b888_11ea_86f7_3c9509197fc0row14_col0\" class=\"data row14 col0\" >-0.286486</td>\n",
       "                        <td id=\"T_a4cad736_b888_11ea_86f7_3c9509197fc0row14_col1\" class=\"data row14 col1\" >-0.30662</td>\n",
       "                        <td id=\"T_a4cad736_b888_11ea_86f7_3c9509197fc0row14_col2\" class=\"data row14 col2\" >-0.353458</td>\n",
       "                        <td id=\"T_a4cad736_b888_11ea_86f7_3c9509197fc0row14_col3\" class=\"data row14 col3\" >-0.433845</td>\n",
       "                        <td id=\"T_a4cad736_b888_11ea_86f7_3c9509197fc0row14_col4\" class=\"data row14 col4\" >-0.327825</td>\n",
       "                        <td id=\"T_a4cad736_b888_11ea_86f7_3c9509197fc0row14_col5\" class=\"data row14 col5\" >-0.297125</td>\n",
       "                        <td id=\"T_a4cad736_b888_11ea_86f7_3c9509197fc0row14_col6\" class=\"data row14 col6\" >-0.207148</td>\n",
       "                        <td id=\"T_a4cad736_b888_11ea_86f7_3c9509197fc0row14_col7\" class=\"data row14 col7\" >-0.374532</td>\n",
       "                        <td id=\"T_a4cad736_b888_11ea_86f7_3c9509197fc0row14_col8\" class=\"data row14 col8\" >-0.354506</td>\n",
       "                        <td id=\"T_a4cad736_b888_11ea_86f7_3c9509197fc0row14_col9\" class=\"data row14 col9\" >-0.263002</td>\n",
       "                        <td id=\"T_a4cad736_b888_11ea_86f7_3c9509197fc0row14_col10\" class=\"data row14 col10\" >-0.0300466</td>\n",
       "                        <td id=\"T_a4cad736_b888_11ea_86f7_3c9509197fc0row14_col11\" class=\"data row14 col11\" >0.532076</td>\n",
       "                        <td id=\"T_a4cad736_b888_11ea_86f7_3c9509197fc0row14_col12\" class=\"data row14 col12\" >0.530328</td>\n",
       "                        <td id=\"T_a4cad736_b888_11ea_86f7_3c9509197fc0row14_col13\" class=\"data row14 col13\" >0.672646</td>\n",
       "                        <td id=\"T_a4cad736_b888_11ea_86f7_3c9509197fc0row14_col14\" class=\"data row14 col14\" >1</td>\n",
       "                        <td id=\"T_a4cad736_b888_11ea_86f7_3c9509197fc0row14_col15\" class=\"data row14 col15\" >0.528539</td>\n",
       "                        <td id=\"T_a4cad736_b888_11ea_86f7_3c9509197fc0row14_col16\" class=\"data row14 col16\" >0.913327</td>\n",
       "                        <td id=\"T_a4cad736_b888_11ea_86f7_3c9509197fc0row14_col17\" class=\"data row14 col17\" >-0.335995</td>\n",
       "                        <td id=\"T_a4cad736_b888_11ea_86f7_3c9509197fc0row14_col18\" class=\"data row14 col18\" >-0.374864</td>\n",
       "                        <td id=\"T_a4cad736_b888_11ea_86f7_3c9509197fc0row14_col19\" class=\"data row14 col19\" >0.513612</td>\n",
       "                        <td id=\"T_a4cad736_b888_11ea_86f7_3c9509197fc0row14_col20\" class=\"data row14 col20\" >-0.0038784</td>\n",
       "                        <td id=\"T_a4cad736_b888_11ea_86f7_3c9509197fc0row14_col21\" class=\"data row14 col21\" >0.0885418</td>\n",
       "                        <td id=\"T_a4cad736_b888_11ea_86f7_3c9509197fc0row14_col22\" class=\"data row14 col22\" >0.0200917</td>\n",
       "            </tr>\n",
       "            <tr>\n",
       "                        <th id=\"T_a4cad736_b888_11ea_86f7_3c9509197fc0level0_row15\" class=\"row_heading level0 row15\" >risk_int1</th>\n",
       "                        <td id=\"T_a4cad736_b888_11ea_86f7_3c9509197fc0row15_col0\" class=\"data row15 col0\" >-0.10558</td>\n",
       "                        <td id=\"T_a4cad736_b888_11ea_86f7_3c9509197fc0row15_col1\" class=\"data row15 col1\" >-0.172822</td>\n",
       "                        <td id=\"T_a4cad736_b888_11ea_86f7_3c9509197fc0row15_col2\" class=\"data row15 col2\" >-0.166509</td>\n",
       "                        <td id=\"T_a4cad736_b888_11ea_86f7_3c9509197fc0row15_col3\" class=\"data row15 col3\" >-0.24052</td>\n",
       "                        <td id=\"T_a4cad736_b888_11ea_86f7_3c9509197fc0row15_col4\" class=\"data row15 col4\" >-0.195223</td>\n",
       "                        <td id=\"T_a4cad736_b888_11ea_86f7_3c9509197fc0row15_col5\" class=\"data row15 col5\" >-0.103853</td>\n",
       "                        <td id=\"T_a4cad736_b888_11ea_86f7_3c9509197fc0row15_col6\" class=\"data row15 col6\" >-0.196224</td>\n",
       "                        <td id=\"T_a4cad736_b888_11ea_86f7_3c9509197fc0row15_col7\" class=\"data row15 col7\" >-0.163699</td>\n",
       "                        <td id=\"T_a4cad736_b888_11ea_86f7_3c9509197fc0row15_col8\" class=\"data row15 col8\" >-0.197127</td>\n",
       "                        <td id=\"T_a4cad736_b888_11ea_86f7_3c9509197fc0row15_col9\" class=\"data row15 col9\" >-0.159061</td>\n",
       "                        <td id=\"T_a4cad736_b888_11ea_86f7_3c9509197fc0row15_col10\" class=\"data row15 col10\" >-0.0738874</td>\n",
       "                        <td id=\"T_a4cad736_b888_11ea_86f7_3c9509197fc0row15_col11\" class=\"data row15 col11\" >0.592007</td>\n",
       "                        <td id=\"T_a4cad736_b888_11ea_86f7_3c9509197fc0row15_col12\" class=\"data row15 col12\" >0.292622</td>\n",
       "                        <td id=\"T_a4cad736_b888_11ea_86f7_3c9509197fc0row15_col13\" class=\"data row15 col13\" >0.919841</td>\n",
       "                        <td id=\"T_a4cad736_b888_11ea_86f7_3c9509197fc0row15_col14\" class=\"data row15 col14\" >0.528539</td>\n",
       "                        <td id=\"T_a4cad736_b888_11ea_86f7_3c9509197fc0row15_col15\" class=\"data row15 col15\" >1</td>\n",
       "                        <td id=\"T_a4cad736_b888_11ea_86f7_3c9509197fc0row15_col16\" class=\"data row15 col16\" >0.502514</td>\n",
       "                        <td id=\"T_a4cad736_b888_11ea_86f7_3c9509197fc0row15_col17\" class=\"data row15 col17\" >-0.205329</td>\n",
       "                        <td id=\"T_a4cad736_b888_11ea_86f7_3c9509197fc0row15_col18\" class=\"data row15 col18\" >-0.220947</td>\n",
       "                        <td id=\"T_a4cad736_b888_11ea_86f7_3c9509197fc0row15_col19\" class=\"data row15 col19\" >0.373449</td>\n",
       "                        <td id=\"T_a4cad736_b888_11ea_86f7_3c9509197fc0row15_col20\" class=\"data row15 col20\" >-0.0519009</td>\n",
       "                        <td id=\"T_a4cad736_b888_11ea_86f7_3c9509197fc0row15_col21\" class=\"data row15 col21\" >0.0489316</td>\n",
       "                        <td id=\"T_a4cad736_b888_11ea_86f7_3c9509197fc0row15_col22\" class=\"data row15 col22\" >0.0461166</td>\n",
       "            </tr>\n",
       "            <tr>\n",
       "                        <th id=\"T_a4cad736_b888_11ea_86f7_3c9509197fc0level0_row16\" class=\"row_heading level0 row16\" >risk_int4</th>\n",
       "                        <td id=\"T_a4cad736_b888_11ea_86f7_3c9509197fc0row16_col0\" class=\"data row16 col0\" >-0.208863</td>\n",
       "                        <td id=\"T_a4cad736_b888_11ea_86f7_3c9509197fc0row16_col1\" class=\"data row16 col1\" >-0.232421</td>\n",
       "                        <td id=\"T_a4cad736_b888_11ea_86f7_3c9509197fc0row16_col2\" class=\"data row16 col2\" >-0.280966</td>\n",
       "                        <td id=\"T_a4cad736_b888_11ea_86f7_3c9509197fc0row16_col3\" class=\"data row16 col3\" >-0.331826</td>\n",
       "                        <td id=\"T_a4cad736_b888_11ea_86f7_3c9509197fc0row16_col4\" class=\"data row16 col4\" >-0.241948</td>\n",
       "                        <td id=\"T_a4cad736_b888_11ea_86f7_3c9509197fc0row16_col5\" class=\"data row16 col5\" >-0.224151</td>\n",
       "                        <td id=\"T_a4cad736_b888_11ea_86f7_3c9509197fc0row16_col6\" class=\"data row16 col6\" >-0.166416</td>\n",
       "                        <td id=\"T_a4cad736_b888_11ea_86f7_3c9509197fc0row16_col7\" class=\"data row16 col7\" >-0.297376</td>\n",
       "                        <td id=\"T_a4cad736_b888_11ea_86f7_3c9509197fc0row16_col8\" class=\"data row16 col8\" >-0.269063</td>\n",
       "                        <td id=\"T_a4cad736_b888_11ea_86f7_3c9509197fc0row16_col9\" class=\"data row16 col9\" >-0.192889</td>\n",
       "                        <td id=\"T_a4cad736_b888_11ea_86f7_3c9509197fc0row16_col10\" class=\"data row16 col10\" >-0.0491728</td>\n",
       "                        <td id=\"T_a4cad736_b888_11ea_86f7_3c9509197fc0row16_col11\" class=\"data row16 col11\" >0.461816</td>\n",
       "                        <td id=\"T_a4cad736_b888_11ea_86f7_3c9509197fc0row16_col12\" class=\"data row16 col12\" >0.443421</td>\n",
       "                        <td id=\"T_a4cad736_b888_11ea_86f7_3c9509197fc0row16_col13\" class=\"data row16 col13\" >0.590935</td>\n",
       "                        <td id=\"T_a4cad736_b888_11ea_86f7_3c9509197fc0row16_col14\" class=\"data row16 col14\" >0.913327</td>\n",
       "                        <td id=\"T_a4cad736_b888_11ea_86f7_3c9509197fc0row16_col15\" class=\"data row16 col15\" >0.502514</td>\n",
       "                        <td id=\"T_a4cad736_b888_11ea_86f7_3c9509197fc0row16_col16\" class=\"data row16 col16\" >1</td>\n",
       "                        <td id=\"T_a4cad736_b888_11ea_86f7_3c9509197fc0row16_col17\" class=\"data row16 col17\" >-0.238629</td>\n",
       "                        <td id=\"T_a4cad736_b888_11ea_86f7_3c9509197fc0row16_col18\" class=\"data row16 col18\" >-0.265627</td>\n",
       "                        <td id=\"T_a4cad736_b888_11ea_86f7_3c9509197fc0row16_col19\" class=\"data row16 col19\" >0.374178</td>\n",
       "                        <td id=\"T_a4cad736_b888_11ea_86f7_3c9509197fc0row16_col20\" class=\"data row16 col20\" >-0.00674926</td>\n",
       "                        <td id=\"T_a4cad736_b888_11ea_86f7_3c9509197fc0row16_col21\" class=\"data row16 col21\" >0.0597883</td>\n",
       "                        <td id=\"T_a4cad736_b888_11ea_86f7_3c9509197fc0row16_col22\" class=\"data row16 col22\" >0.0025644</td>\n",
       "            </tr>\n",
       "            <tr>\n",
       "                        <th id=\"T_a4cad736_b888_11ea_86f7_3c9509197fc0level0_row17\" class=\"row_heading level0 row17\" >distance_ctrl</th>\n",
       "                        <td id=\"T_a4cad736_b888_11ea_86f7_3c9509197fc0row17_col0\" class=\"data row17 col0\" >0.41961</td>\n",
       "                        <td id=\"T_a4cad736_b888_11ea_86f7_3c9509197fc0row17_col1\" class=\"data row17 col1\" >0.331822</td>\n",
       "                        <td id=\"T_a4cad736_b888_11ea_86f7_3c9509197fc0row17_col2\" class=\"data row17 col2\" >0.216853</td>\n",
       "                        <td id=\"T_a4cad736_b888_11ea_86f7_3c9509197fc0row17_col3\" class=\"data row17 col3\" >0.348778</td>\n",
       "                        <td id=\"T_a4cad736_b888_11ea_86f7_3c9509197fc0row17_col4\" class=\"data row17 col4\" >0.320427</td>\n",
       "                        <td id=\"T_a4cad736_b888_11ea_86f7_3c9509197fc0row17_col5\" class=\"data row17 col5\" >0.344565</td>\n",
       "                        <td id=\"T_a4cad736_b888_11ea_86f7_3c9509197fc0row17_col6\" class=\"data row17 col6\" >0.1698</td>\n",
       "                        <td id=\"T_a4cad736_b888_11ea_86f7_3c9509197fc0row17_col7\" class=\"data row17 col7\" >0.25738</td>\n",
       "                        <td id=\"T_a4cad736_b888_11ea_86f7_3c9509197fc0row17_col8\" class=\"data row17 col8\" >0.284024</td>\n",
       "                        <td id=\"T_a4cad736_b888_11ea_86f7_3c9509197fc0row17_col9\" class=\"data row17 col9\" >0.24459</td>\n",
       "                        <td id=\"T_a4cad736_b888_11ea_86f7_3c9509197fc0row17_col10\" class=\"data row17 col10\" >-0.0629009</td>\n",
       "                        <td id=\"T_a4cad736_b888_11ea_86f7_3c9509197fc0row17_col11\" class=\"data row17 col11\" >-0.26312</td>\n",
       "                        <td id=\"T_a4cad736_b888_11ea_86f7_3c9509197fc0row17_col12\" class=\"data row17 col12\" >-0.270322</td>\n",
       "                        <td id=\"T_a4cad736_b888_11ea_86f7_3c9509197fc0row17_col13\" class=\"data row17 col13\" >-0.280143</td>\n",
       "                        <td id=\"T_a4cad736_b888_11ea_86f7_3c9509197fc0row17_col14\" class=\"data row17 col14\" >-0.335995</td>\n",
       "                        <td id=\"T_a4cad736_b888_11ea_86f7_3c9509197fc0row17_col15\" class=\"data row17 col15\" >-0.205329</td>\n",
       "                        <td id=\"T_a4cad736_b888_11ea_86f7_3c9509197fc0row17_col16\" class=\"data row17 col16\" >-0.238629</td>\n",
       "                        <td id=\"T_a4cad736_b888_11ea_86f7_3c9509197fc0row17_col17\" class=\"data row17 col17\" >1</td>\n",
       "                        <td id=\"T_a4cad736_b888_11ea_86f7_3c9509197fc0row17_col18\" class=\"data row17 col18\" >0.823245</td>\n",
       "                        <td id=\"T_a4cad736_b888_11ea_86f7_3c9509197fc0row17_col19\" class=\"data row17 col19\" >-0.587504</td>\n",
       "                        <td id=\"T_a4cad736_b888_11ea_86f7_3c9509197fc0row17_col20\" class=\"data row17 col20\" >-0.21272</td>\n",
       "                        <td id=\"T_a4cad736_b888_11ea_86f7_3c9509197fc0row17_col21\" class=\"data row17 col21\" >-0.145527</td>\n",
       "                        <td id=\"T_a4cad736_b888_11ea_86f7_3c9509197fc0row17_col22\" class=\"data row17 col22\" >0.117111</td>\n",
       "            </tr>\n",
       "            <tr>\n",
       "                        <th id=\"T_a4cad736_b888_11ea_86f7_3c9509197fc0level0_row18\" class=\"row_heading level0 row18\" >cluster_ctrl</th>\n",
       "                        <td id=\"T_a4cad736_b888_11ea_86f7_3c9509197fc0row18_col0\" class=\"data row18 col0\" >0.381677</td>\n",
       "                        <td id=\"T_a4cad736_b888_11ea_86f7_3c9509197fc0row18_col1\" class=\"data row18 col1\" >0.343753</td>\n",
       "                        <td id=\"T_a4cad736_b888_11ea_86f7_3c9509197fc0row18_col2\" class=\"data row18 col2\" >0.290799</td>\n",
       "                        <td id=\"T_a4cad736_b888_11ea_86f7_3c9509197fc0row18_col3\" class=\"data row18 col3\" >0.427455</td>\n",
       "                        <td id=\"T_a4cad736_b888_11ea_86f7_3c9509197fc0row18_col4\" class=\"data row18 col4\" >0.367372</td>\n",
       "                        <td id=\"T_a4cad736_b888_11ea_86f7_3c9509197fc0row18_col5\" class=\"data row18 col5\" >0.334236</td>\n",
       "                        <td id=\"T_a4cad736_b888_11ea_86f7_3c9509197fc0row18_col6\" class=\"data row18 col6\" >0.176359</td>\n",
       "                        <td id=\"T_a4cad736_b888_11ea_86f7_3c9509197fc0row18_col7\" class=\"data row18 col7\" >0.349577</td>\n",
       "                        <td id=\"T_a4cad736_b888_11ea_86f7_3c9509197fc0row18_col8\" class=\"data row18 col8\" >0.360024</td>\n",
       "                        <td id=\"T_a4cad736_b888_11ea_86f7_3c9509197fc0row18_col9\" class=\"data row18 col9\" >0.291881</td>\n",
       "                        <td id=\"T_a4cad736_b888_11ea_86f7_3c9509197fc0row18_col10\" class=\"data row18 col10\" >-0.0729999</td>\n",
       "                        <td id=\"T_a4cad736_b888_11ea_86f7_3c9509197fc0row18_col11\" class=\"data row18 col11\" >-0.293404</td>\n",
       "                        <td id=\"T_a4cad736_b888_11ea_86f7_3c9509197fc0row18_col12\" class=\"data row18 col12\" >-0.316688</td>\n",
       "                        <td id=\"T_a4cad736_b888_11ea_86f7_3c9509197fc0row18_col13\" class=\"data row18 col13\" >-0.304674</td>\n",
       "                        <td id=\"T_a4cad736_b888_11ea_86f7_3c9509197fc0row18_col14\" class=\"data row18 col14\" >-0.374864</td>\n",
       "                        <td id=\"T_a4cad736_b888_11ea_86f7_3c9509197fc0row18_col15\" class=\"data row18 col15\" >-0.220947</td>\n",
       "                        <td id=\"T_a4cad736_b888_11ea_86f7_3c9509197fc0row18_col16\" class=\"data row18 col16\" >-0.265627</td>\n",
       "                        <td id=\"T_a4cad736_b888_11ea_86f7_3c9509197fc0row18_col17\" class=\"data row18 col17\" >0.823245</td>\n",
       "                        <td id=\"T_a4cad736_b888_11ea_86f7_3c9509197fc0row18_col18\" class=\"data row18 col18\" >1</td>\n",
       "                        <td id=\"T_a4cad736_b888_11ea_86f7_3c9509197fc0row18_col19\" class=\"data row18 col19\" >-0.650114</td>\n",
       "                        <td id=\"T_a4cad736_b888_11ea_86f7_3c9509197fc0row18_col20\" class=\"data row18 col20\" >-0.226971</td>\n",
       "                        <td id=\"T_a4cad736_b888_11ea_86f7_3c9509197fc0row18_col21\" class=\"data row18 col21\" >-0.123637</td>\n",
       "                        <td id=\"T_a4cad736_b888_11ea_86f7_3c9509197fc0row18_col22\" class=\"data row18 col22\" >0.116287</td>\n",
       "            </tr>\n",
       "            <tr>\n",
       "                        <th id=\"T_a4cad736_b888_11ea_86f7_3c9509197fc0level0_row19\" class=\"row_heading level0 row19\" >risk_ctrl</th>\n",
       "                        <td id=\"T_a4cad736_b888_11ea_86f7_3c9509197fc0row19_col0\" class=\"data row19 col0\" >-0.324497</td>\n",
       "                        <td id=\"T_a4cad736_b888_11ea_86f7_3c9509197fc0row19_col1\" class=\"data row19 col1\" >-0.279895</td>\n",
       "                        <td id=\"T_a4cad736_b888_11ea_86f7_3c9509197fc0row19_col2\" class=\"data row19 col2\" >-0.210424</td>\n",
       "                        <td id=\"T_a4cad736_b888_11ea_86f7_3c9509197fc0row19_col3\" class=\"data row19 col3\" >-0.336066</td>\n",
       "                        <td id=\"T_a4cad736_b888_11ea_86f7_3c9509197fc0row19_col4\" class=\"data row19 col4\" >-0.30247</td>\n",
       "                        <td id=\"T_a4cad736_b888_11ea_86f7_3c9509197fc0row19_col5\" class=\"data row19 col5\" >-0.222776</td>\n",
       "                        <td id=\"T_a4cad736_b888_11ea_86f7_3c9509197fc0row19_col6\" class=\"data row19 col6\" >-0.187244</td>\n",
       "                        <td id=\"T_a4cad736_b888_11ea_86f7_3c9509197fc0row19_col7\" class=\"data row19 col7\" >-0.208199</td>\n",
       "                        <td id=\"T_a4cad736_b888_11ea_86f7_3c9509197fc0row19_col8\" class=\"data row19 col8\" >-0.255134</td>\n",
       "                        <td id=\"T_a4cad736_b888_11ea_86f7_3c9509197fc0row19_col9\" class=\"data row19 col9\" >-0.228476</td>\n",
       "                        <td id=\"T_a4cad736_b888_11ea_86f7_3c9509197fc0row19_col10\" class=\"data row19 col10\" >-0.0189698</td>\n",
       "                        <td id=\"T_a4cad736_b888_11ea_86f7_3c9509197fc0row19_col11\" class=\"data row19 col11\" >0.42157</td>\n",
       "                        <td id=\"T_a4cad736_b888_11ea_86f7_3c9509197fc0row19_col12\" class=\"data row19 col12\" >0.351762</td>\n",
       "                        <td id=\"T_a4cad736_b888_11ea_86f7_3c9509197fc0row19_col13\" class=\"data row19 col13\" >0.499819</td>\n",
       "                        <td id=\"T_a4cad736_b888_11ea_86f7_3c9509197fc0row19_col14\" class=\"data row19 col14\" >0.513612</td>\n",
       "                        <td id=\"T_a4cad736_b888_11ea_86f7_3c9509197fc0row19_col15\" class=\"data row19 col15\" >0.373449</td>\n",
       "                        <td id=\"T_a4cad736_b888_11ea_86f7_3c9509197fc0row19_col16\" class=\"data row19 col16\" >0.374178</td>\n",
       "                        <td id=\"T_a4cad736_b888_11ea_86f7_3c9509197fc0row19_col17\" class=\"data row19 col17\" >-0.587504</td>\n",
       "                        <td id=\"T_a4cad736_b888_11ea_86f7_3c9509197fc0row19_col18\" class=\"data row19 col18\" >-0.650114</td>\n",
       "                        <td id=\"T_a4cad736_b888_11ea_86f7_3c9509197fc0row19_col19\" class=\"data row19 col19\" >1</td>\n",
       "                        <td id=\"T_a4cad736_b888_11ea_86f7_3c9509197fc0row19_col20\" class=\"data row19 col20\" >-0.0388092</td>\n",
       "                        <td id=\"T_a4cad736_b888_11ea_86f7_3c9509197fc0row19_col21\" class=\"data row19 col21\" >0.140282</td>\n",
       "                        <td id=\"T_a4cad736_b888_11ea_86f7_3c9509197fc0row19_col22\" class=\"data row19 col22\" >-0.18994</td>\n",
       "            </tr>\n",
       "            <tr>\n",
       "                        <th id=\"T_a4cad736_b888_11ea_86f7_3c9509197fc0level0_row20\" class=\"row_heading level0 row20\" >agi_ctrl</th>\n",
       "                        <td id=\"T_a4cad736_b888_11ea_86f7_3c9509197fc0row20_col0\" class=\"data row20 col0\" >-0.104551</td>\n",
       "                        <td id=\"T_a4cad736_b888_11ea_86f7_3c9509197fc0row20_col1\" class=\"data row20 col1\" >-0.0263965</td>\n",
       "                        <td id=\"T_a4cad736_b888_11ea_86f7_3c9509197fc0row20_col2\" class=\"data row20 col2\" >-0.0454265</td>\n",
       "                        <td id=\"T_a4cad736_b888_11ea_86f7_3c9509197fc0row20_col3\" class=\"data row20 col3\" >-0.0714645</td>\n",
       "                        <td id=\"T_a4cad736_b888_11ea_86f7_3c9509197fc0row20_col4\" class=\"data row20 col4\" >-0.0762635</td>\n",
       "                        <td id=\"T_a4cad736_b888_11ea_86f7_3c9509197fc0row20_col5\" class=\"data row20 col5\" >-0.0998646</td>\n",
       "                        <td id=\"T_a4cad736_b888_11ea_86f7_3c9509197fc0row20_col6\" class=\"data row20 col6\" >0.166485</td>\n",
       "                        <td id=\"T_a4cad736_b888_11ea_86f7_3c9509197fc0row20_col7\" class=\"data row20 col7\" >-0.0671918</td>\n",
       "                        <td id=\"T_a4cad736_b888_11ea_86f7_3c9509197fc0row20_col8\" class=\"data row20 col8\" >-0.0674363</td>\n",
       "                        <td id=\"T_a4cad736_b888_11ea_86f7_3c9509197fc0row20_col9\" class=\"data row20 col9\" >-0.0573846</td>\n",
       "                        <td id=\"T_a4cad736_b888_11ea_86f7_3c9509197fc0row20_col10\" class=\"data row20 col10\" >0.347885</td>\n",
       "                        <td id=\"T_a4cad736_b888_11ea_86f7_3c9509197fc0row20_col11\" class=\"data row20 col11\" >-0.00137231</td>\n",
       "                        <td id=\"T_a4cad736_b888_11ea_86f7_3c9509197fc0row20_col12\" class=\"data row20 col12\" >0.0530134</td>\n",
       "                        <td id=\"T_a4cad736_b888_11ea_86f7_3c9509197fc0row20_col13\" class=\"data row20 col13\" >-0.0624798</td>\n",
       "                        <td id=\"T_a4cad736_b888_11ea_86f7_3c9509197fc0row20_col14\" class=\"data row20 col14\" >-0.0038784</td>\n",
       "                        <td id=\"T_a4cad736_b888_11ea_86f7_3c9509197fc0row20_col15\" class=\"data row20 col15\" >-0.0519009</td>\n",
       "                        <td id=\"T_a4cad736_b888_11ea_86f7_3c9509197fc0row20_col16\" class=\"data row20 col16\" >-0.00674926</td>\n",
       "                        <td id=\"T_a4cad736_b888_11ea_86f7_3c9509197fc0row20_col17\" class=\"data row20 col17\" >-0.21272</td>\n",
       "                        <td id=\"T_a4cad736_b888_11ea_86f7_3c9509197fc0row20_col18\" class=\"data row20 col18\" >-0.226971</td>\n",
       "                        <td id=\"T_a4cad736_b888_11ea_86f7_3c9509197fc0row20_col19\" class=\"data row20 col19\" >-0.0388092</td>\n",
       "                        <td id=\"T_a4cad736_b888_11ea_86f7_3c9509197fc0row20_col20\" class=\"data row20 col20\" >1</td>\n",
       "                        <td id=\"T_a4cad736_b888_11ea_86f7_3c9509197fc0row20_col21\" class=\"data row20 col21\" >-0.0193689</td>\n",
       "                        <td id=\"T_a4cad736_b888_11ea_86f7_3c9509197fc0row20_col22\" class=\"data row20 col22\" >0.0425685</td>\n",
       "            </tr>\n",
       "            <tr>\n",
       "                        <th id=\"T_a4cad736_b888_11ea_86f7_3c9509197fc0level0_row21\" class=\"row_heading level0 row21\" >exp</th>\n",
       "                        <td id=\"T_a4cad736_b888_11ea_86f7_3c9509197fc0row21_col0\" class=\"data row21 col0\" >-0.0897837</td>\n",
       "                        <td id=\"T_a4cad736_b888_11ea_86f7_3c9509197fc0row21_col1\" class=\"data row21 col1\" >-0.0644315</td>\n",
       "                        <td id=\"T_a4cad736_b888_11ea_86f7_3c9509197fc0row21_col2\" class=\"data row21 col2\" >-0.065534</td>\n",
       "                        <td id=\"T_a4cad736_b888_11ea_86f7_3c9509197fc0row21_col3\" class=\"data row21 col3\" >-0.0858028</td>\n",
       "                        <td id=\"T_a4cad736_b888_11ea_86f7_3c9509197fc0row21_col4\" class=\"data row21 col4\" >-0.0622566</td>\n",
       "                        <td id=\"T_a4cad736_b888_11ea_86f7_3c9509197fc0row21_col5\" class=\"data row21 col5\" >-0.076022</td>\n",
       "                        <td id=\"T_a4cad736_b888_11ea_86f7_3c9509197fc0row21_col6\" class=\"data row21 col6\" >-0.033826</td>\n",
       "                        <td id=\"T_a4cad736_b888_11ea_86f7_3c9509197fc0row21_col7\" class=\"data row21 col7\" >-0.0572977</td>\n",
       "                        <td id=\"T_a4cad736_b888_11ea_86f7_3c9509197fc0row21_col8\" class=\"data row21 col8\" >-0.0485885</td>\n",
       "                        <td id=\"T_a4cad736_b888_11ea_86f7_3c9509197fc0row21_col9\" class=\"data row21 col9\" >-0.0351114</td>\n",
       "                        <td id=\"T_a4cad736_b888_11ea_86f7_3c9509197fc0row21_col10\" class=\"data row21 col10\" >-0.00154565</td>\n",
       "                        <td id=\"T_a4cad736_b888_11ea_86f7_3c9509197fc0row21_col11\" class=\"data row21 col11\" >0.0854297</td>\n",
       "                        <td id=\"T_a4cad736_b888_11ea_86f7_3c9509197fc0row21_col12\" class=\"data row21 col12\" >0.0923556</td>\n",
       "                        <td id=\"T_a4cad736_b888_11ea_86f7_3c9509197fc0row21_col13\" class=\"data row21 col13\" >0.0725177</td>\n",
       "                        <td id=\"T_a4cad736_b888_11ea_86f7_3c9509197fc0row21_col14\" class=\"data row21 col14\" >0.0885418</td>\n",
       "                        <td id=\"T_a4cad736_b888_11ea_86f7_3c9509197fc0row21_col15\" class=\"data row21 col15\" >0.0489316</td>\n",
       "                        <td id=\"T_a4cad736_b888_11ea_86f7_3c9509197fc0row21_col16\" class=\"data row21 col16\" >0.0597883</td>\n",
       "                        <td id=\"T_a4cad736_b888_11ea_86f7_3c9509197fc0row21_col17\" class=\"data row21 col17\" >-0.145527</td>\n",
       "                        <td id=\"T_a4cad736_b888_11ea_86f7_3c9509197fc0row21_col18\" class=\"data row21 col18\" >-0.123637</td>\n",
       "                        <td id=\"T_a4cad736_b888_11ea_86f7_3c9509197fc0row21_col19\" class=\"data row21 col19\" >0.140282</td>\n",
       "                        <td id=\"T_a4cad736_b888_11ea_86f7_3c9509197fc0row21_col20\" class=\"data row21 col20\" >-0.0193689</td>\n",
       "                        <td id=\"T_a4cad736_b888_11ea_86f7_3c9509197fc0row21_col21\" class=\"data row21 col21\" >1</td>\n",
       "                        <td id=\"T_a4cad736_b888_11ea_86f7_3c9509197fc0row21_col22\" class=\"data row21 col22\" >-0.0493445</td>\n",
       "            </tr>\n",
       "            <tr>\n",
       "                        <th id=\"T_a4cad736_b888_11ea_86f7_3c9509197fc0level0_row22\" class=\"row_heading level0 row22\" >ranking</th>\n",
       "                        <td id=\"T_a4cad736_b888_11ea_86f7_3c9509197fc0row22_col0\" class=\"data row22 col0\" >0.0916788</td>\n",
       "                        <td id=\"T_a4cad736_b888_11ea_86f7_3c9509197fc0row22_col1\" class=\"data row22 col1\" >0.00708147</td>\n",
       "                        <td id=\"T_a4cad736_b888_11ea_86f7_3c9509197fc0row22_col2\" class=\"data row22 col2\" >-0.104686</td>\n",
       "                        <td id=\"T_a4cad736_b888_11ea_86f7_3c9509197fc0row22_col3\" class=\"data row22 col3\" >-0.0213415</td>\n",
       "                        <td id=\"T_a4cad736_b888_11ea_86f7_3c9509197fc0row22_col4\" class=\"data row22 col4\" >-0.0316122</td>\n",
       "                        <td id=\"T_a4cad736_b888_11ea_86f7_3c9509197fc0row22_col5\" class=\"data row22 col5\" >0.0542857</td>\n",
       "                        <td id=\"T_a4cad736_b888_11ea_86f7_3c9509197fc0row22_col6\" class=\"data row22 col6\" >0.0492621</td>\n",
       "                        <td id=\"T_a4cad736_b888_11ea_86f7_3c9509197fc0row22_col7\" class=\"data row22 col7\" >0.028957</td>\n",
       "                        <td id=\"T_a4cad736_b888_11ea_86f7_3c9509197fc0row22_col8\" class=\"data row22 col8\" >0.0223094</td>\n",
       "                        <td id=\"T_a4cad736_b888_11ea_86f7_3c9509197fc0row22_col9\" class=\"data row22 col9\" >-0.00814767</td>\n",
       "                        <td id=\"T_a4cad736_b888_11ea_86f7_3c9509197fc0row22_col10\" class=\"data row22 col10\" >0.361424</td>\n",
       "                        <td id=\"T_a4cad736_b888_11ea_86f7_3c9509197fc0row22_col11\" class=\"data row22 col11\" >-0.0167335</td>\n",
       "                        <td id=\"T_a4cad736_b888_11ea_86f7_3c9509197fc0row22_col12\" class=\"data row22 col12\" >-0.0230428</td>\n",
       "                        <td id=\"T_a4cad736_b888_11ea_86f7_3c9509197fc0row22_col13\" class=\"data row22 col13\" >0.0842766</td>\n",
       "                        <td id=\"T_a4cad736_b888_11ea_86f7_3c9509197fc0row22_col14\" class=\"data row22 col14\" >0.0200917</td>\n",
       "                        <td id=\"T_a4cad736_b888_11ea_86f7_3c9509197fc0row22_col15\" class=\"data row22 col15\" >0.0461166</td>\n",
       "                        <td id=\"T_a4cad736_b888_11ea_86f7_3c9509197fc0row22_col16\" class=\"data row22 col16\" >0.0025644</td>\n",
       "                        <td id=\"T_a4cad736_b888_11ea_86f7_3c9509197fc0row22_col17\" class=\"data row22 col17\" >0.117111</td>\n",
       "                        <td id=\"T_a4cad736_b888_11ea_86f7_3c9509197fc0row22_col18\" class=\"data row22 col18\" >0.116287</td>\n",
       "                        <td id=\"T_a4cad736_b888_11ea_86f7_3c9509197fc0row22_col19\" class=\"data row22 col19\" >-0.18994</td>\n",
       "                        <td id=\"T_a4cad736_b888_11ea_86f7_3c9509197fc0row22_col20\" class=\"data row22 col20\" >0.0425685</td>\n",
       "                        <td id=\"T_a4cad736_b888_11ea_86f7_3c9509197fc0row22_col21\" class=\"data row22 col21\" >-0.0493445</td>\n",
       "                        <td id=\"T_a4cad736_b888_11ea_86f7_3c9509197fc0row22_col22\" class=\"data row22 col22\" >1</td>\n",
       "            </tr>\n",
       "    </tbody></table>"
      ],
      "text/plain": [
       "<pandas.io.formats.style.Styler at 0x1f5b1f11e08>"
      ]
     },
     "execution_count": 33,
     "metadata": {},
     "output_type": "execute_result"
    }
   ],
   "source": [
    "df2.iloc[:,2:].corr().style.apply(lambda x: [\"background: red\" if abs(v) > 0.75 else \"\" for v in x], axis = 1)"
   ]
  },
  {
   "cell_type": "markdown",
   "metadata": {},
   "source": [
    "# EDA"
   ]
  },
  {
   "cell_type": "code",
   "execution_count": 34,
   "metadata": {},
   "outputs": [],
   "source": [
    "pd.set_option('display.max_columns', 45)"
   ]
  },
  {
   "cell_type": "code",
   "execution_count": 35,
   "metadata": {},
   "outputs": [
    {
     "data": {
      "text/plain": [
       "Index(['matchId', 'teamId', 'distance1_2_x', 'distance3_4_x',\n",
       "       'distance_centroid1_x', 'distance_centroid4_x', 'cluster_B_x',\n",
       "       'cluster_C_x', 'cluster_D_x', 'distance1_2_y', 'distance3_4_y',\n",
       "       'distance_centroid1_y', 'distance_centroid4_y', 'cluster_B_y',\n",
       "       'cluster_C_y', 'cluster_D_y', 'agility_y', 'landing_risk1',\n",
       "       'landing_risk4', 'risk1', 'risk4', 'risk_int1', 'risk_int4',\n",
       "       'distance_ctrl', 'centroid_ctrl', 'cluster_ctrl', 'risk_ctrl',\n",
       "       'agi_ctrl', 'exp', 'ranking'],\n",
       "      dtype='object')"
      ]
     },
     "execution_count": 35,
     "metadata": {},
     "output_type": "execute_result"
    }
   ],
   "source": [
    "df.columns"
   ]
  },
  {
   "cell_type": "markdown",
   "metadata": {},
   "source": [
    "The _x_ variables represent standard deviations, while the _y_ variables represent means"
   ]
  },
  {
   "cell_type": "code",
   "execution_count": 36,
   "metadata": {},
   "outputs": [
    {
     "data": {
      "text/html": [
       "<div>\n",
       "<style scoped>\n",
       "    .dataframe tbody tr th:only-of-type {\n",
       "        vertical-align: middle;\n",
       "    }\n",
       "\n",
       "    .dataframe tbody tr th {\n",
       "        vertical-align: top;\n",
       "    }\n",
       "\n",
       "    .dataframe thead th {\n",
       "        text-align: right;\n",
       "    }\n",
       "</style>\n",
       "<table border=\"1\" class=\"dataframe\">\n",
       "  <thead>\n",
       "    <tr style=\"text-align: right;\">\n",
       "      <th></th>\n",
       "      <th>teamId</th>\n",
       "      <th>distance1_2_x</th>\n",
       "      <th>distance3_4_x</th>\n",
       "      <th>distance_centroid1_x</th>\n",
       "      <th>distance_centroid4_x</th>\n",
       "      <th>cluster_B_x</th>\n",
       "      <th>cluster_C_x</th>\n",
       "      <th>cluster_D_x</th>\n",
       "      <th>distance1_2_y</th>\n",
       "      <th>distance3_4_y</th>\n",
       "      <th>distance_centroid1_y</th>\n",
       "      <th>distance_centroid4_y</th>\n",
       "      <th>cluster_B_y</th>\n",
       "      <th>cluster_C_y</th>\n",
       "      <th>cluster_D_y</th>\n",
       "      <th>agility_y</th>\n",
       "      <th>landing_risk1</th>\n",
       "      <th>landing_risk4</th>\n",
       "      <th>risk1</th>\n",
       "      <th>risk4</th>\n",
       "      <th>risk_int1</th>\n",
       "      <th>risk_int4</th>\n",
       "      <th>distance_ctrl</th>\n",
       "      <th>centroid_ctrl</th>\n",
       "      <th>cluster_ctrl</th>\n",
       "      <th>risk_ctrl</th>\n",
       "      <th>agi_ctrl</th>\n",
       "      <th>exp</th>\n",
       "      <th>ranking</th>\n",
       "    </tr>\n",
       "  </thead>\n",
       "  <tbody>\n",
       "    <tr>\n",
       "      <td>count</td>\n",
       "      <td>114940.000000</td>\n",
       "      <td>114940.000000</td>\n",
       "      <td>114940.000000</td>\n",
       "      <td>114940.000000</td>\n",
       "      <td>114940.000000</td>\n",
       "      <td>114940.000000</td>\n",
       "      <td>114940.000000</td>\n",
       "      <td>114940.000000</td>\n",
       "      <td>114940.000000</td>\n",
       "      <td>114940.000000</td>\n",
       "      <td>114940.000000</td>\n",
       "      <td>114940.000000</td>\n",
       "      <td>114940.000000</td>\n",
       "      <td>114940.000000</td>\n",
       "      <td>114940.000000</td>\n",
       "      <td>114940.000000</td>\n",
       "      <td>114940.000000</td>\n",
       "      <td>114940.000000</td>\n",
       "      <td>114940.000000</td>\n",
       "      <td>114940.000000</td>\n",
       "      <td>114940.000000</td>\n",
       "      <td>114940.000000</td>\n",
       "      <td>114940.000000</td>\n",
       "      <td>114940.000000</td>\n",
       "      <td>114940.000000</td>\n",
       "      <td>114940.000000</td>\n",
       "      <td>114940.000000</td>\n",
       "      <td>114940.000000</td>\n",
       "      <td>114940.000000</td>\n",
       "    </tr>\n",
       "    <tr>\n",
       "      <td>mean</td>\n",
       "      <td>12.632156</td>\n",
       "      <td>276.835428</td>\n",
       "      <td>26.081491</td>\n",
       "      <td>182.902804</td>\n",
       "      <td>66.400699</td>\n",
       "      <td>0.133287</td>\n",
       "      <td>0.065075</td>\n",
       "      <td>0.022676</td>\n",
       "      <td>219.668535</td>\n",
       "      <td>11.739200</td>\n",
       "      <td>141.125369</td>\n",
       "      <td>33.004392</td>\n",
       "      <td>0.111718</td>\n",
       "      <td>0.031764</td>\n",
       "      <td>0.006323</td>\n",
       "      <td>0.235841</td>\n",
       "      <td>28.132212</td>\n",
       "      <td>3.116709</td>\n",
       "      <td>10.380347</td>\n",
       "      <td>3.484958</td>\n",
       "      <td>271.404874</td>\n",
       "      <td>40.420265</td>\n",
       "      <td>135.782720</td>\n",
       "      <td>100.073469</td>\n",
       "      <td>0.052338</td>\n",
       "      <td>7.677194</td>\n",
       "      <td>0.230696</td>\n",
       "      <td>1.545283</td>\n",
       "      <td>11.951244</td>\n",
       "    </tr>\n",
       "    <tr>\n",
       "      <td>std</td>\n",
       "      <td>7.650503</td>\n",
       "      <td>261.940847</td>\n",
       "      <td>17.817458</td>\n",
       "      <td>179.745997</td>\n",
       "      <td>66.778765</td>\n",
       "      <td>0.045193</td>\n",
       "      <td>0.043898</td>\n",
       "      <td>0.030192</td>\n",
       "      <td>212.971038</td>\n",
       "      <td>13.535791</td>\n",
       "      <td>142.576943</td>\n",
       "      <td>41.664850</td>\n",
       "      <td>0.072181</td>\n",
       "      <td>0.034797</td>\n",
       "      <td>0.011568</td>\n",
       "      <td>0.111202</td>\n",
       "      <td>29.261688</td>\n",
       "      <td>5.403291</td>\n",
       "      <td>11.299985</td>\n",
       "      <td>4.234180</td>\n",
       "      <td>507.246989</td>\n",
       "      <td>82.731115</td>\n",
       "      <td>75.600353</td>\n",
       "      <td>57.581284</td>\n",
       "      <td>0.017268</td>\n",
       "      <td>5.000453</td>\n",
       "      <td>0.043905</td>\n",
       "      <td>2.053146</td>\n",
       "      <td>7.548345</td>\n",
       "    </tr>\n",
       "    <tr>\n",
       "      <td>min</td>\n",
       "      <td>1.000000</td>\n",
       "      <td>0.000000</td>\n",
       "      <td>0.000000</td>\n",
       "      <td>0.000000</td>\n",
       "      <td>0.000000</td>\n",
       "      <td>0.000000</td>\n",
       "      <td>0.000000</td>\n",
       "      <td>0.000000</td>\n",
       "      <td>-9.990000</td>\n",
       "      <td>-9.990000</td>\n",
       "      <td>0.000000</td>\n",
       "      <td>-9.990000</td>\n",
       "      <td>0.000000</td>\n",
       "      <td>0.000000</td>\n",
       "      <td>0.000000</td>\n",
       "      <td>0.000000</td>\n",
       "      <td>0.000000</td>\n",
       "      <td>0.000000</td>\n",
       "      <td>0.000000</td>\n",
       "      <td>0.000000</td>\n",
       "      <td>0.000000</td>\n",
       "      <td>0.000000</td>\n",
       "      <td>11.711253</td>\n",
       "      <td>17.894473</td>\n",
       "      <td>0.005455</td>\n",
       "      <td>0.000000</td>\n",
       "      <td>0.086309</td>\n",
       "      <td>0.000000</td>\n",
       "      <td>1.000000</td>\n",
       "    </tr>\n",
       "    <tr>\n",
       "      <td>25%</td>\n",
       "      <td>6.000000</td>\n",
       "      <td>90.663995</td>\n",
       "      <td>14.730439</td>\n",
       "      <td>56.939605</td>\n",
       "      <td>21.022654</td>\n",
       "      <td>0.111803</td>\n",
       "      <td>0.030888</td>\n",
       "      <td>0.000000</td>\n",
       "      <td>91.716285</td>\n",
       "      <td>1.366865</td>\n",
       "      <td>56.836017</td>\n",
       "      <td>8.151482</td>\n",
       "      <td>0.052632</td>\n",
       "      <td>0.003788</td>\n",
       "      <td>0.000000</td>\n",
       "      <td>0.152542</td>\n",
       "      <td>6.000000</td>\n",
       "      <td>0.000000</td>\n",
       "      <td>1.975207</td>\n",
       "      <td>0.563953</td>\n",
       "      <td>7.045294</td>\n",
       "      <td>0.664467</td>\n",
       "      <td>76.629146</td>\n",
       "      <td>54.543314</td>\n",
       "      <td>0.038918</td>\n",
       "      <td>3.636356</td>\n",
       "      <td>0.201929</td>\n",
       "      <td>0.000000</td>\n",
       "      <td>5.000000</td>\n",
       "    </tr>\n",
       "    <tr>\n",
       "      <td>50%</td>\n",
       "      <td>12.000000</td>\n",
       "      <td>179.528005</td>\n",
       "      <td>21.200776</td>\n",
       "      <td>115.412006</td>\n",
       "      <td>40.279900</td>\n",
       "      <td>0.136578</td>\n",
       "      <td>0.067937</td>\n",
       "      <td>0.000000</td>\n",
       "      <td>149.566447</td>\n",
       "      <td>10.471444</td>\n",
       "      <td>93.334347</td>\n",
       "      <td>21.019587</td>\n",
       "      <td>0.105372</td>\n",
       "      <td>0.019170</td>\n",
       "      <td>0.000000</td>\n",
       "      <td>0.225000</td>\n",
       "      <td>19.000000</td>\n",
       "      <td>1.000000</td>\n",
       "      <td>6.115385</td>\n",
       "      <td>1.615385</td>\n",
       "      <td>55.664606</td>\n",
       "      <td>4.675466</td>\n",
       "      <td>115.574519</td>\n",
       "      <td>84.468859</td>\n",
       "      <td>0.052218</td>\n",
       "      <td>6.410416</td>\n",
       "      <td>0.232375</td>\n",
       "      <td>0.000000</td>\n",
       "      <td>11.000000</td>\n",
       "    </tr>\n",
       "    <tr>\n",
       "      <td>75%</td>\n",
       "      <td>18.000000</td>\n",
       "      <td>376.235666</td>\n",
       "      <td>31.954520</td>\n",
       "      <td>246.952041</td>\n",
       "      <td>87.326392</td>\n",
       "      <td>0.160985</td>\n",
       "      <td>0.102763</td>\n",
       "      <td>0.043073</td>\n",
       "      <td>261.380136</td>\n",
       "      <td>19.285435</td>\n",
       "      <td>165.371723</td>\n",
       "      <td>41.920667</td>\n",
       "      <td>0.161458</td>\n",
       "      <td>0.050000</td>\n",
       "      <td>0.007576</td>\n",
       "      <td>0.304878</td>\n",
       "      <td>40.000000</td>\n",
       "      <td>3.125000</td>\n",
       "      <td>15.232558</td>\n",
       "      <td>4.990898</td>\n",
       "      <td>291.635788</td>\n",
       "      <td>38.917160</td>\n",
       "      <td>179.284729</td>\n",
       "      <td>132.782489</td>\n",
       "      <td>0.065330</td>\n",
       "      <td>11.318209</td>\n",
       "      <td>0.260538</td>\n",
       "      <td>3.644614</td>\n",
       "      <td>18.000000</td>\n",
       "    </tr>\n",
       "    <tr>\n",
       "      <td>max</td>\n",
       "      <td>35.000000</td>\n",
       "      <td>1520.404224</td>\n",
       "      <td>130.824519</td>\n",
       "      <td>1022.569499</td>\n",
       "      <td>399.497493</td>\n",
       "      <td>0.255377</td>\n",
       "      <td>0.170437</td>\n",
       "      <td>0.113067</td>\n",
       "      <td>1575.496200</td>\n",
       "      <td>83.974246</td>\n",
       "      <td>1047.002988</td>\n",
       "      <td>305.063169</td>\n",
       "      <td>0.352151</td>\n",
       "      <td>0.163194</td>\n",
       "      <td>0.062500</td>\n",
       "      <td>0.590909</td>\n",
       "      <td>150.000000</td>\n",
       "      <td>30.000000</td>\n",
       "      <td>60.676471</td>\n",
       "      <td>22.368421</td>\n",
       "      <td>3697.413697</td>\n",
       "      <td>734.343312</td>\n",
       "      <td>397.222493</td>\n",
       "      <td>301.199904</td>\n",
       "      <td>0.103504</td>\n",
       "      <td>23.386239</td>\n",
       "      <td>0.367601</td>\n",
       "      <td>7.720557</td>\n",
       "      <td>33.000000</td>\n",
       "    </tr>\n",
       "  </tbody>\n",
       "</table>\n",
       "</div>"
      ],
      "text/plain": [
       "              teamId  distance1_2_x  distance3_4_x distance_centroid1_x  \\\n",
       "count  114940.000000  114940.000000  114940.000000        114940.000000   \n",
       "mean       12.632156     276.835428      26.081491           182.902804   \n",
       "std         7.650503     261.940847      17.817458           179.745997   \n",
       "min         1.000000       0.000000       0.000000             0.000000   \n",
       "25%         6.000000      90.663995      14.730439            56.939605   \n",
       "50%        12.000000     179.528005      21.200776           115.412006   \n",
       "75%        18.000000     376.235666      31.954520           246.952041   \n",
       "max        35.000000    1520.404224     130.824519          1022.569499   \n",
       "\n",
       "      distance_centroid4_x    cluster_B_x    cluster_C_x    cluster_D_x  \\\n",
       "count        114940.000000  114940.000000  114940.000000  114940.000000   \n",
       "mean             66.400699       0.133287       0.065075       0.022676   \n",
       "std              66.778765       0.045193       0.043898       0.030192   \n",
       "min               0.000000       0.000000       0.000000       0.000000   \n",
       "25%              21.022654       0.111803       0.030888       0.000000   \n",
       "50%              40.279900       0.136578       0.067937       0.000000   \n",
       "75%              87.326392       0.160985       0.102763       0.043073   \n",
       "max             399.497493       0.255377       0.170437       0.113067   \n",
       "\n",
       "       distance1_2_y  distance3_4_y distance_centroid1_y distance_centroid4_y  \\\n",
       "count  114940.000000  114940.000000        114940.000000        114940.000000   \n",
       "mean      219.668535      11.739200           141.125369            33.004392   \n",
       "std       212.971038      13.535791           142.576943            41.664850   \n",
       "min        -9.990000      -9.990000             0.000000            -9.990000   \n",
       "25%        91.716285       1.366865            56.836017             8.151482   \n",
       "50%       149.566447      10.471444            93.334347            21.019587   \n",
       "75%       261.380136      19.285435           165.371723            41.920667   \n",
       "max      1575.496200      83.974246          1047.002988           305.063169   \n",
       "\n",
       "         cluster_B_y    cluster_C_y    cluster_D_y      agility_y  \\\n",
       "count  114940.000000  114940.000000  114940.000000  114940.000000   \n",
       "mean        0.111718       0.031764       0.006323       0.235841   \n",
       "std         0.072181       0.034797       0.011568       0.111202   \n",
       "min         0.000000       0.000000       0.000000       0.000000   \n",
       "25%         0.052632       0.003788       0.000000       0.152542   \n",
       "50%         0.105372       0.019170       0.000000       0.225000   \n",
       "75%         0.161458       0.050000       0.007576       0.304878   \n",
       "max         0.352151       0.163194       0.062500       0.590909   \n",
       "\n",
       "       landing_risk1  landing_risk4          risk1          risk4  \\\n",
       "count  114940.000000  114940.000000  114940.000000  114940.000000   \n",
       "mean       28.132212       3.116709      10.380347       3.484958   \n",
       "std        29.261688       5.403291      11.299985       4.234180   \n",
       "min         0.000000       0.000000       0.000000       0.000000   \n",
       "25%         6.000000       0.000000       1.975207       0.563953   \n",
       "50%        19.000000       1.000000       6.115385       1.615385   \n",
       "75%        40.000000       3.125000      15.232558       4.990898   \n",
       "max       150.000000      30.000000      60.676471      22.368421   \n",
       "\n",
       "           risk_int1      risk_int4  distance_ctrl  centroid_ctrl  \\\n",
       "count  114940.000000  114940.000000  114940.000000  114940.000000   \n",
       "mean      271.404874      40.420265     135.782720     100.073469   \n",
       "std       507.246989      82.731115      75.600353      57.581284   \n",
       "min         0.000000       0.000000      11.711253      17.894473   \n",
       "25%         7.045294       0.664467      76.629146      54.543314   \n",
       "50%        55.664606       4.675466     115.574519      84.468859   \n",
       "75%       291.635788      38.917160     179.284729     132.782489   \n",
       "max      3697.413697     734.343312     397.222493     301.199904   \n",
       "\n",
       "        cluster_ctrl      risk_ctrl       agi_ctrl            exp  \\\n",
       "count  114940.000000  114940.000000  114940.000000  114940.000000   \n",
       "mean        0.052338       7.677194       0.230696       1.545283   \n",
       "std         0.017268       5.000453       0.043905       2.053146   \n",
       "min         0.005455       0.000000       0.086309       0.000000   \n",
       "25%         0.038918       3.636356       0.201929       0.000000   \n",
       "50%         0.052218       6.410416       0.232375       0.000000   \n",
       "75%         0.065330      11.318209       0.260538       3.644614   \n",
       "max         0.103504      23.386239       0.367601       7.720557   \n",
       "\n",
       "             ranking  \n",
       "count  114940.000000  \n",
       "mean       11.951244  \n",
       "std         7.548345  \n",
       "min         1.000000  \n",
       "25%         5.000000  \n",
       "50%        11.000000  \n",
       "75%        18.000000  \n",
       "max        33.000000  "
      ]
     },
     "execution_count": 36,
     "metadata": {},
     "output_type": "execute_result"
    }
   ],
   "source": [
    "df.nunique(axis=0)\n",
    "df.describe().apply(lambda s: s.apply(lambda x: format(x, 'f')))"
   ]
  },
  {
   "cell_type": "code",
   "execution_count": 37,
   "metadata": {},
   "outputs": [
    {
     "data": {
      "text/plain": [
       "<matplotlib.axes._subplots.AxesSubplot at 0x1f5b2027348>"
      ]
     },
     "execution_count": 37,
     "metadata": {},
     "output_type": "execute_result"
    },
    {
     "data": {
      "image/png": "[encoded data removed]",
      "text/plain": [
       "<Figure size 432x288 with 1 Axes>"
      ]
     },
     "metadata": {
      "needs_background": "light"
     },
     "output_type": "display_data"
    }
   ],
   "source": [
    "df['agility_y'].plot.hist()"
   ]
  },
  {
   "cell_type": "markdown",
   "metadata": {},
   "source": [
    "# Models"
   ]
  },
  {
   "cell_type": "code",
   "execution_count": 38,
   "metadata": {},
   "outputs": [],
   "source": [
    "import numpy as np\n",
    "import pandas as pd\n",
    "import os\n",
    "import math\n",
    "import statsmodels.api as sm\n",
    "from statsmodels.tools.eval_measures import rmse\n",
    "from sklearn.model_selection import train_test_split \n",
    "from sklearn.metrics import mean_absolute_error, mean_squared_error\n",
    "from math import sqrt\n",
    "from sklearn import metrics\n",
    "from sklearn.linear_model import LinearRegression, LogisticRegression, Lasso, Ridge, SGDClassifier\n",
    "from sklearn.model_selection import KFold, cross_val_score\n",
    "import matplotlib.pyplot as plt\n",
    "import seaborn as sns\n",
    "from sklearn.tree import DecisionTreeRegressor\n",
    "from sklearn.neighbors import KNeighborsRegressor\n",
    "from sklearn.preprocessing import MinMaxScaler, StandardScaler\n",
    "from sklearn import preprocessing\n",
    "from sklearn.discriminant_analysis import LinearDiscriminantAnalysis\n",
    "from sklearn.tree import DecisionTreeClassifier\n",
    "\n",
    "from xgboost import XGBClassifier, XGBRegressor"
   ]
  },
  {
   "cell_type": "markdown",
   "metadata": {},
   "source": [
    "## All variables"
   ]
  },
  {
   "cell_type": "markdown",
   "metadata": {},
   "source": [
    "From now on, I use the df with distances and cluster, not centroids"
   ]
  },
  {
   "cell_type": "code",
   "execution_count": 55,
   "metadata": {},
   "outputs": [],
   "source": [
    "X = df2.iloc[:,2:-1]\n",
    "y = df2.iloc[:,[-1]]"
   ]
  },
  {
   "cell_type": "code",
   "execution_count": 65,
   "metadata": {},
   "outputs": [],
   "source": [
    "X_train, X_test, y_train, y_test = train_test_split(X,y,test_size=0.2, random_state=6, shuffle=True)"
   ]
  },
  {
   "cell_type": "code",
   "execution_count": 54,
   "metadata": {},
   "outputs": [],
   "source": [
    "# Scale between 0 and 1\n",
    "scaler= StandardScaler()\n",
    "X_train=scaler.fit_transform(X_train)\n",
    "X_test=scaler.transform(X_test)"
   ]
  },
  {
   "cell_type": "code",
   "execution_count": 68,
   "metadata": {},
   "outputs": [],
   "source": [
    "X_train=pd.DataFrame(X_train, columns=X.columns)\n",
    "X_test=pd.DataFrame(X_test, columns=X.columns)\n",
    "y_train = y_train.reset_index(drop=True)\n",
    "y_test = y_test.reset_index(drop=True)"
   ]
  },
  {
   "cell_type": "markdown",
   "metadata": {},
   "source": [
    "### Regression"
   ]
  },
  {
   "cell_type": "code",
   "execution_count": 66,
   "metadata": {},
   "outputs": [
    {
     "name": "stderr",
     "output_type": "stream",
     "text": [
      "C:\\Users\\admin\\Anaconda3\\lib\\site-packages\\numpy\\core\\fromnumeric.py:2495: FutureWarning: Method .ptp is deprecated and will be removed in a future version. Use numpy.ptp instead.\n",
      "  return ptp(axis=axis, out=out, **kwargs)\n"
     ]
    },
    {
     "data": {
      "text/html": [
       "<table class=\"simpletable\">\n",
       "<caption>OLS Regression Results</caption>\n",
       "<tr>\n",
       "  <th>Dep. Variable:</th>         <td>ranking</td>     <th>  R-squared:         </th>  <td>   0.355</td>  \n",
       "</tr>\n",
       "<tr>\n",
       "  <th>Model:</th>                   <td>OLS</td>       <th>  Adj. R-squared:    </th>  <td>   0.355</td>  \n",
       "</tr>\n",
       "<tr>\n",
       "  <th>Method:</th>             <td>Least Squares</td>  <th>  F-statistic:       </th>  <td>   2297.</td>  \n",
       "</tr>\n",
       "<tr>\n",
       "  <th>Date:</th>             <td>Sat, 27 Jun 2020</td> <th>  Prob (F-statistic):</th>   <td>  0.00</td>   \n",
       "</tr>\n",
       "<tr>\n",
       "  <th>Time:</th>                 <td>17:14:40</td>     <th>  Log-Likelihood:    </th> <td>-2.9631e+05</td>\n",
       "</tr>\n",
       "<tr>\n",
       "  <th>No. Observations:</th>      <td> 91952</td>      <th>  AIC:               </th>  <td>5.927e+05</td> \n",
       "</tr>\n",
       "<tr>\n",
       "  <th>Df Residuals:</th>          <td> 91929</td>      <th>  BIC:               </th>  <td>5.929e+05</td> \n",
       "</tr>\n",
       "<tr>\n",
       "  <th>Df Model:</th>              <td>    22</td>      <th>                     </th>      <td> </td>     \n",
       "</tr>\n",
       "<tr>\n",
       "  <th>Covariance Type:</th>      <td>nonrobust</td>    <th>                     </th>      <td> </td>     \n",
       "</tr>\n",
       "</table>\n",
       "<table class=\"simpletable\">\n",
       "<tr>\n",
       "        <td></td>           <th>coef</th>     <th>std err</th>      <th>t</th>      <th>P>|t|</th>  <th>[0.025</th>    <th>0.975]</th>  \n",
       "</tr>\n",
       "<tr>\n",
       "  <th>const</th>         <td>   13.2389</td> <td>    0.202</td> <td>   65.599</td> <td> 0.000</td> <td>   12.843</td> <td>   13.634</td>\n",
       "</tr>\n",
       "<tr>\n",
       "  <th>distance1_2_x</th> <td>    0.0037</td> <td>    0.000</td> <td>   27.416</td> <td> 0.000</td> <td>    0.003</td> <td>    0.004</td>\n",
       "</tr>\n",
       "<tr>\n",
       "  <th>distance3_4_x</th> <td>    0.0510</td> <td>    0.002</td> <td>   22.512</td> <td> 0.000</td> <td>    0.047</td> <td>    0.055</td>\n",
       "</tr>\n",
       "<tr>\n",
       "  <th>cluster_B_x</th>   <td>  -46.1261</td> <td>    0.715</td> <td>  -64.551</td> <td> 0.000</td> <td>  -47.527</td> <td>  -44.726</td>\n",
       "</tr>\n",
       "<tr>\n",
       "  <th>cluster_C_x</th>   <td>  -41.0215</td> <td>    1.186</td> <td>  -34.592</td> <td> 0.000</td> <td>  -43.346</td> <td>  -38.697</td>\n",
       "</tr>\n",
       "<tr>\n",
       "  <th>cluster_D_x</th>   <td>  -53.5097</td> <td>    1.992</td> <td>  -26.864</td> <td> 0.000</td> <td>  -57.414</td> <td>  -49.606</td>\n",
       "</tr>\n",
       "<tr>\n",
       "  <th>distance1_2_y</th> <td>   -0.0023</td> <td>    0.000</td> <td>  -11.938</td> <td> 0.000</td> <td>   -0.003</td> <td>   -0.002</td>\n",
       "</tr>\n",
       "<tr>\n",
       "  <th>distance3_4_y</th> <td>   -0.1927</td> <td>    0.003</td> <td>  -66.161</td> <td> 0.000</td> <td>   -0.198</td> <td>   -0.187</td>\n",
       "</tr>\n",
       "<tr>\n",
       "  <th>cluster_B_y</th>   <td>   24.5867</td> <td>    0.592</td> <td>   41.542</td> <td> 0.000</td> <td>   23.427</td> <td>   25.747</td>\n",
       "</tr>\n",
       "<tr>\n",
       "  <th>cluster_C_y</th>   <td>   44.2754</td> <td>    1.567</td> <td>   28.248</td> <td> 0.000</td> <td>   41.203</td> <td>   47.347</td>\n",
       "</tr>\n",
       "<tr>\n",
       "  <th>cluster_D_y</th>   <td>  152.0003</td> <td>    5.174</td> <td>   29.376</td> <td> 0.000</td> <td>  141.859</td> <td>  162.142</td>\n",
       "</tr>\n",
       "<tr>\n",
       "  <th>agility_y</th>     <td>   38.7646</td> <td>    0.241</td> <td>  160.859</td> <td> 0.000</td> <td>   38.292</td> <td>   39.237</td>\n",
       "</tr>\n",
       "<tr>\n",
       "  <th>landing_risk1</th> <td>   -0.0183</td> <td>    0.001</td> <td>  -19.124</td> <td> 0.000</td> <td>   -0.020</td> <td>   -0.016</td>\n",
       "</tr>\n",
       "<tr>\n",
       "  <th>landing_risk4</th> <td>   -0.0481</td> <td>    0.005</td> <td>  -10.450</td> <td> 0.000</td> <td>   -0.057</td> <td>   -0.039</td>\n",
       "</tr>\n",
       "<tr>\n",
       "  <th>risk1</th>         <td>    0.3811</td> <td>    0.006</td> <td>   61.848</td> <td> 0.000</td> <td>    0.369</td> <td>    0.393</td>\n",
       "</tr>\n",
       "<tr>\n",
       "  <th>risk4</th>         <td>    0.1757</td> <td>    0.016</td> <td>   11.280</td> <td> 0.000</td> <td>    0.145</td> <td>    0.206</td>\n",
       "</tr>\n",
       "<tr>\n",
       "  <th>risk_int1</th>     <td>   -0.0048</td> <td>    0.000</td> <td>  -42.308</td> <td> 0.000</td> <td>   -0.005</td> <td>   -0.005</td>\n",
       "</tr>\n",
       "<tr>\n",
       "  <th>risk_int4</th>     <td>   -0.0094</td> <td>    0.001</td> <td>  -14.499</td> <td> 0.000</td> <td>   -0.011</td> <td>   -0.008</td>\n",
       "</tr>\n",
       "<tr>\n",
       "  <th>distance_ctrl</th> <td>    0.0025</td> <td>    0.000</td> <td>    5.165</td> <td> 0.000</td> <td>    0.002</td> <td>    0.003</td>\n",
       "</tr>\n",
       "<tr>\n",
       "  <th>cluster_ctrl</th>  <td>   -1.1503</td> <td>    2.333</td> <td>   -0.493</td> <td> 0.622</td> <td>   -5.723</td> <td>    3.422</td>\n",
       "</tr>\n",
       "<tr>\n",
       "  <th>risk_ctrl</th>     <td>   -0.5339</td> <td>    0.006</td> <td>  -83.884</td> <td> 0.000</td> <td>   -0.546</td> <td>   -0.521</td>\n",
       "</tr>\n",
       "<tr>\n",
       "  <th>agi_ctrl</th>      <td>  -14.3768</td> <td>    0.518</td> <td>  -27.732</td> <td> 0.000</td> <td>  -15.393</td> <td>  -13.361</td>\n",
       "</tr>\n",
       "<tr>\n",
       "  <th>exp</th>           <td>   -0.1256</td> <td>    0.010</td> <td>  -12.652</td> <td> 0.000</td> <td>   -0.145</td> <td>   -0.106</td>\n",
       "</tr>\n",
       "</table>\n",
       "<table class=\"simpletable\">\n",
       "<tr>\n",
       "  <th>Omnibus:</th>       <td>1125.647</td> <th>  Durbin-Watson:     </th> <td>   2.005</td> \n",
       "</tr>\n",
       "<tr>\n",
       "  <th>Prob(Omnibus):</th>  <td> 0.000</td>  <th>  Jarque-Bera (JB):  </th> <td> 957.265</td> \n",
       "</tr>\n",
       "<tr>\n",
       "  <th>Skew:</th>           <td> 0.190</td>  <th>  Prob(JB):          </th> <td>1.36e-208</td>\n",
       "</tr>\n",
       "<tr>\n",
       "  <th>Kurtosis:</th>       <td> 2.675</td>  <th>  Cond. No.          </th> <td>1.69e+05</td> \n",
       "</tr>\n",
       "</table><br/><br/>Warnings:<br/>[1] Standard Errors assume that the covariance matrix of the errors is correctly specified.<br/>[2] The condition number is large, 1.69e+05. This might indicate that there are<br/>strong multicollinearity or other numerical problems."
      ],
      "text/plain": [
       "<class 'statsmodels.iolib.summary.Summary'>\n",
       "\"\"\"\n",
       "                            OLS Regression Results                            \n",
       "==============================================================================\n",
       "Dep. Variable:                ranking   R-squared:                       0.355\n",
       "Model:                            OLS   Adj. R-squared:                  0.355\n",
       "Method:                 Least Squares   F-statistic:                     2297.\n",
       "Date:                Sat, 27 Jun 2020   Prob (F-statistic):               0.00\n",
       "Time:                        17:14:40   Log-Likelihood:            -2.9631e+05\n",
       "No. Observations:               91952   AIC:                         5.927e+05\n",
       "Df Residuals:                   91929   BIC:                         5.929e+05\n",
       "Df Model:                          22                                         \n",
       "Covariance Type:            nonrobust                                         \n",
       "=================================================================================\n",
       "                    coef    std err          t      P>|t|      [0.025      0.975]\n",
       "---------------------------------------------------------------------------------\n",
       "const            13.2389      0.202     65.599      0.000      12.843      13.634\n",
       "distance1_2_x     0.0037      0.000     27.416      0.000       0.003       0.004\n",
       "distance3_4_x     0.0510      0.002     22.512      0.000       0.047       0.055\n",
       "cluster_B_x     -46.1261      0.715    -64.551      0.000     -47.527     -44.726\n",
       "cluster_C_x     -41.0215      1.186    -34.592      0.000     -43.346     -38.697\n",
       "cluster_D_x     -53.5097      1.992    -26.864      0.000     -57.414     -49.606\n",
       "distance1_2_y    -0.0023      0.000    -11.938      0.000      -0.003      -0.002\n",
       "distance3_4_y    -0.1927      0.003    -66.161      0.000      -0.198      -0.187\n",
       "cluster_B_y      24.5867      0.592     41.542      0.000      23.427      25.747\n",
       "cluster_C_y      44.2754      1.567     28.248      0.000      41.203      47.347\n",
       "cluster_D_y     152.0003      5.174     29.376      0.000     141.859     162.142\n",
       "agility_y        38.7646      0.241    160.859      0.000      38.292      39.237\n",
       "landing_risk1    -0.0183      0.001    -19.124      0.000      -0.020      -0.016\n",
       "landing_risk4    -0.0481      0.005    -10.450      0.000      -0.057      -0.039\n",
       "risk1             0.3811      0.006     61.848      0.000       0.369       0.393\n",
       "risk4             0.1757      0.016     11.280      0.000       0.145       0.206\n",
       "risk_int1        -0.0048      0.000    -42.308      0.000      -0.005      -0.005\n",
       "risk_int4        -0.0094      0.001    -14.499      0.000      -0.011      -0.008\n",
       "distance_ctrl     0.0025      0.000      5.165      0.000       0.002       0.003\n",
       "cluster_ctrl     -1.1503      2.333     -0.493      0.622      -5.723       3.422\n",
       "risk_ctrl        -0.5339      0.006    -83.884      0.000      -0.546      -0.521\n",
       "agi_ctrl        -14.3768      0.518    -27.732      0.000     -15.393     -13.361\n",
       "exp              -0.1256      0.010    -12.652      0.000      -0.145      -0.106\n",
       "==============================================================================\n",
       "Omnibus:                     1125.647   Durbin-Watson:                   2.005\n",
       "Prob(Omnibus):                  0.000   Jarque-Bera (JB):              957.265\n",
       "Skew:                           0.190   Prob(JB):                    1.36e-208\n",
       "Kurtosis:                       2.675   Cond. No.                     1.69e+05\n",
       "==============================================================================\n",
       "\n",
       "Warnings:\n",
       "[1] Standard Errors assume that the covariance matrix of the errors is correctly specified.\n",
       "[2] The condition number is large, 1.69e+05. This might indicate that there are\n",
       "strong multicollinearity or other numerical problems.\n",
       "\"\"\""
      ]
     },
     "execution_count": 66,
     "metadata": {},
     "output_type": "execute_result"
    }
   ],
   "source": [
    "# Linear Regression\n",
    "X_t=sm.add_constant(X_train)\n",
    "model = sm.OLS(y_train,X_t.astype(float)).fit()\n",
    "\n",
    "model.summary()"
   ]
  },
  {
   "cell_type": "code",
   "execution_count": 67,
   "metadata": {},
   "outputs": [],
   "source": [
    "y_pred = model.predict(X_t)"
   ]
  },
  {
   "cell_type": "code",
   "execution_count": 68,
   "metadata": {},
   "outputs": [
    {
     "data": {
      "text/plain": [
       "0.3546977543605283"
      ]
     },
     "execution_count": 68,
     "metadata": {},
     "output_type": "execute_result"
    }
   ],
   "source": [
    "metrics.r2_score(y_train, y_pred)"
   ]
  },
  {
   "cell_type": "code",
   "execution_count": 69,
   "metadata": {},
   "outputs": [
    {
     "data": {
      "text/plain": [
       "36.85257681431997"
      ]
     },
     "execution_count": 69,
     "metadata": {},
     "output_type": "execute_result"
    }
   ],
   "source": [
    "mean_squared_error(y_train, y_pred)"
   ]
  },
  {
   "cell_type": "code",
   "execution_count": 70,
   "metadata": {},
   "outputs": [
    {
     "name": "stderr",
     "output_type": "stream",
     "text": [
      "C:\\Users\\admin\\Anaconda3\\lib\\site-packages\\numpy\\core\\fromnumeric.py:2495: FutureWarning: Method .ptp is deprecated and will be removed in a future version. Use numpy.ptp instead.\n",
      "  return ptp(axis=axis, out=out, **kwargs)\n"
     ]
    }
   ],
   "source": [
    "X_ts = sm.add_constant(X_test)\n",
    "y_pred = model.predict(X_ts)"
   ]
  },
  {
   "cell_type": "code",
   "execution_count": 71,
   "metadata": {},
   "outputs": [
    {
     "data": {
      "text/plain": [
       "0.3452298564021141"
      ]
     },
     "execution_count": 71,
     "metadata": {},
     "output_type": "execute_result"
    }
   ],
   "source": [
    "metrics.r2_score(y_test, y_pred)"
   ]
  },
  {
   "cell_type": "code",
   "execution_count": 72,
   "metadata": {},
   "outputs": [
    {
     "data": {
      "text/plain": [
       "36.96112401319832"
      ]
     },
     "execution_count": 72,
     "metadata": {},
     "output_type": "execute_result"
    }
   ],
   "source": [
    "mean_squared_error(y_test, y_pred)"
   ]
  },
  {
   "cell_type": "code",
   "execution_count": 49,
   "metadata": {},
   "outputs": [
    {
     "name": "stdout",
     "output_type": "stream",
     "text": [
      "Linear Regression - MSE -36.837 std 0.426\n",
      "Intercept [13.19931627]\n",
      "Coefficients  [[ 3.74522076e-03  5.23488240e-02 -4.61221959e+01 -4.12204998e+01\n",
      "  -5.27908328e+01 -2.33134603e-03 -1.93569436e-01  2.43481651e+01\n",
      "   4.49949005e+01  1.48812119e+02  3.86995860e+01 -1.84051686e-02\n",
      "  -4.64996887e-02  3.81413377e-01  1.79547393e-01 -4.77291989e-03\n",
      "  -9.84865639e-03  2.57353341e-03 -1.96696794e+00 -5.33308866e-01\n",
      "  -1.40413867e+01 -1.24841807e-01]]\n",
      "MAE - Mean Absolute Error 4.952\n",
      "MSE - Mean Square Error  36.819\n",
      "R2    0.354\n"
     ]
    }
   ],
   "source": [
    "# Linear regression (scikit learn)\n",
    "kfold=KFold(n_splits=10, random_state=7)\n",
    "\n",
    "model=LinearRegression()\n",
    "scoring = \"neg_mean_squared_error\"\n",
    "\n",
    "results=cross_val_score(model, X_train, y_train, cv=kfold, scoring=scoring)\n",
    "print(f'Linear Regression - MSE {results.mean():.3f} std {results.std():.3f}')\n",
    "\n",
    "# Create the DataFrames for plotting\n",
    "resall=pd.DataFrame()\n",
    "res_w1=pd.DataFrame()\n",
    "\n",
    "res_w1[\"Res\"]=results\n",
    "res_w1[\"Type\"]=\"Lin\"\n",
    "\n",
    "resall=pd.concat([resall,res_w1], ignore_index=True)\n",
    "\n",
    "# Now lets use it in the same way than the statsmodel\n",
    "\n",
    "model_x=LinearRegression()\n",
    "model_x.fit(X_train,y_train)\n",
    "print(f'Intercept {model_x.intercept_}')\n",
    "print(\"Coefficients \",model_x.coef_)\n",
    "\n",
    "y_pred_x=model_x.predict(X_train)\n",
    "\n",
    "print(f'MAE - Mean Absolute Error {mean_absolute_error(y_train, y_pred_x):.3f}')\n",
    "print(f'MSE - Mean Square Error  {mean_squared_error(y_train, y_pred_x):.3f}')\n",
    "print(f'R2    {metrics.r2_score(y_train, y_pred_x):.3f}')"
   ]
  },
  {
   "cell_type": "code",
   "execution_count": 50,
   "metadata": {},
   "outputs": [],
   "source": [
    "y_pred = model_x.predict(X_test)"
   ]
  },
  {
   "cell_type": "code",
   "execution_count": 201,
   "metadata": {},
   "outputs": [
    {
     "name": "stdout",
     "output_type": "stream",
     "text": [
      "Ridge Regression - MSE -40.297 std 0.578\n"
     ]
    }
   ],
   "source": [
    "# Ridge Regression\n",
    "kfold=KFold(n_splits=10, random_state=7)\n",
    "\n",
    "model=Ridge()\n",
    "scoring = \"neg_mean_squared_error\"\n",
    "\n",
    "results=cross_val_score(model, X_train, y_train, cv=kfold, scoring=scoring)\n",
    "\n",
    "print(f'Ridge Regression - MSE {results.mean():.3f} std {results.std():.3f}')\n",
    "\n",
    "res_w1[\"Res\"]=results\n",
    "res_w1[\"Type\"]=\"Ridge\"\n",
    "\n",
    "resall=pd.concat([resall,res_w1], ignore_index=True)"
   ]
  },
  {
   "cell_type": "code",
   "execution_count": 202,
   "metadata": {},
   "outputs": [
    {
     "data": {
      "text/plain": [
       "Ridge(alpha=1.0, copy_X=True, fit_intercept=True, max_iter=None,\n",
       "      normalize=False, random_state=None, solver='auto', tol=0.001)"
      ]
     },
     "execution_count": 202,
     "metadata": {},
     "output_type": "execute_result"
    }
   ],
   "source": [
    "model=Ridge()\n",
    "model.fit(X_train, y_train)"
   ]
  },
  {
   "cell_type": "code",
   "execution_count": 203,
   "metadata": {},
   "outputs": [],
   "source": [
    "y_pred = model.predict(X_train)"
   ]
  },
  {
   "cell_type": "code",
   "execution_count": 204,
   "metadata": {},
   "outputs": [
    {
     "data": {
      "text/plain": [
       "0.30242606619619694"
      ]
     },
     "execution_count": 204,
     "metadata": {},
     "output_type": "execute_result"
    }
   ],
   "source": [
    "metrics.r2_score(y_train, y_pred)"
   ]
  },
  {
   "cell_type": "code",
   "execution_count": 205,
   "metadata": {},
   "outputs": [
    {
     "data": {
      "text/plain": [
       "40.274078246631724"
      ]
     },
     "execution_count": 205,
     "metadata": {},
     "output_type": "execute_result"
    }
   ],
   "source": [
    "mean_squared_error(y_train, y_pred)"
   ]
  },
  {
   "cell_type": "code",
   "execution_count": 206,
   "metadata": {},
   "outputs": [],
   "source": [
    "y_pred = model.predict(X_test)"
   ]
  },
  {
   "cell_type": "code",
   "execution_count": 207,
   "metadata": {},
   "outputs": [
    {
     "data": {
      "text/plain": [
       "0.3073767795872324"
      ]
     },
     "execution_count": 207,
     "metadata": {},
     "output_type": "execute_result"
    }
   ],
   "source": [
    "metrics.r2_score(y_test, y_pred)"
   ]
  },
  {
   "cell_type": "code",
   "execution_count": 208,
   "metadata": {},
   "outputs": [
    {
     "data": {
      "text/plain": [
       "39.60672799782415"
      ]
     },
     "execution_count": 208,
     "metadata": {},
     "output_type": "execute_result"
    }
   ],
   "source": [
    "mean_squared_error(y_test, y_pred)"
   ]
  },
  {
   "cell_type": "code",
   "execution_count": null,
   "metadata": {},
   "outputs": [],
   "source": [
    "# KNN Regression\n",
    "kfold=KFold(n_splits=10, random_state=7)\n",
    "\n",
    "model=KNeighborsRegressor()\n",
    "scoring = \"neg_mean_squared_error\"\n",
    "\n",
    "results=cross_val_score(model, X_train, y_train, cv=kfold, scoring=scoring)\n",
    "\n",
    "print(f'KNN Regression - MSE {results.mean():.3f} std {results.std():.3f}')\n",
    "\n",
    "res_w1[\"Res\"]=results\n",
    "res_w1[\"Type\"]=\"KNN\"\n",
    "\n",
    "resall=pd.concat([resall,res_w1], ignore_index=True)"
   ]
  },
  {
   "cell_type": "code",
   "execution_count": 209,
   "metadata": {},
   "outputs": [
    {
     "data": {
      "text/plain": [
       "KNeighborsRegressor(algorithm='auto', leaf_size=30, metric='minkowski',\n",
       "                    metric_params=None, n_jobs=None, n_neighbors=5, p=2,\n",
       "                    weights='uniform')"
      ]
     },
     "execution_count": 209,
     "metadata": {},
     "output_type": "execute_result"
    }
   ],
   "source": [
    "model=KNeighborsRegressor()\n",
    "model.fit(X_train, y_train)"
   ]
  },
  {
   "cell_type": "code",
   "execution_count": null,
   "metadata": {},
   "outputs": [],
   "source": [
    "y_pred = model.predict(X_train)"
   ]
  },
  {
   "cell_type": "code",
   "execution_count": null,
   "metadata": {},
   "outputs": [],
   "source": [
    "metrics.r2_score(y_train, y_pred)"
   ]
  },
  {
   "cell_type": "code",
   "execution_count": null,
   "metadata": {},
   "outputs": [],
   "source": [
    "mean_squared_error(y_train, y_pred)"
   ]
  },
  {
   "cell_type": "code",
   "execution_count": null,
   "metadata": {},
   "outputs": [],
   "source": [
    "y_pred = model.predict(X_test)"
   ]
  },
  {
   "cell_type": "code",
   "execution_count": null,
   "metadata": {},
   "outputs": [],
   "source": [
    "metrics.r2_score(y_test, y_pred)"
   ]
  },
  {
   "cell_type": "code",
   "execution_count": null,
   "metadata": {},
   "outputs": [],
   "source": [
    "mean_squared_error(y_test, y_pred)"
   ]
  },
  {
   "cell_type": "markdown",
   "metadata": {},
   "source": [
    "### Classification"
   ]
  },
  {
   "cell_type": "code",
   "execution_count": 241,
   "metadata": {},
   "outputs": [],
   "source": [
    "dfc = df2.copy()\n",
    "dfc['ranking'] = dfc['ranking'].apply(lambda x: 1 if x <=5 else 0)"
   ]
  },
  {
   "cell_type": "code",
   "execution_count": 242,
   "metadata": {},
   "outputs": [],
   "source": [
    "X = dfc.iloc[:,2:-1]\n",
    "y = dfc.iloc[:,-1]"
   ]
  },
  {
   "cell_type": "code",
   "execution_count": 243,
   "metadata": {},
   "outputs": [],
   "source": [
    "X_train, X_test, y_train, y_test = train_test_split(X,y,test_size=0.1, random_state=6, shuffle = True)"
   ]
  },
  {
   "cell_type": "code",
   "execution_count": 198,
   "metadata": {},
   "outputs": [],
   "source": [
    "scaler = MinMaxScaler()\n",
    "#scaler = StandardScaler()\n",
    "X_train = scaler.fit_transform(X_train)\n",
    "X_test = scaler.transform(X_test)"
   ]
  },
  {
   "cell_type": "markdown",
   "metadata": {},
   "source": [
    "LOGISTIC REGRESSION"
   ]
  },
  {
   "cell_type": "code",
   "execution_count": 303,
   "metadata": {},
   "outputs": [
    {
     "name": "stderr",
     "output_type": "stream",
     "text": [
      "C:\\Users\\admin\\Anaconda3\\lib\\site-packages\\sklearn\\linear_model\\logistic.py:432: FutureWarning: Default solver will be changed to 'lbfgs' in 0.22. Specify a solver to silence this warning.\n",
      "  FutureWarning)\n"
     ]
    },
    {
     "data": {
      "text/plain": [
       "LogisticRegression(C=1.0, class_weight='balanced', dual=False,\n",
       "                   fit_intercept=True, intercept_scaling=1, l1_ratio=None,\n",
       "                   max_iter=100, multi_class='warn', n_jobs=None, penalty='l2',\n",
       "                   random_state=None, solver='warn', tol=0.0001, verbose=0,\n",
       "                   warm_start=False)"
      ]
     },
     "execution_count": 303,
     "metadata": {},
     "output_type": "execute_result"
    }
   ],
   "source": [
    "model = LogisticRegression(class_weight='balanced')\n",
    "model.fit(X_train, y_train)"
   ]
  },
  {
   "cell_type": "code",
   "execution_count": 304,
   "metadata": {},
   "outputs": [
    {
     "name": "stdout",
     "output_type": "stream",
     "text": [
      "TRAIN METRICS\n",
      "Accuracy: 0.6638753309726608\n",
      "F1 Score: 0.5086160662236212\n"
     ]
    },
    {
     "data": {
      "text/plain": [
       "array([[61430, 33953],\n",
       "       [ 8193, 21812]], dtype=int64)"
      ]
     },
     "execution_count": 304,
     "metadata": {},
     "output_type": "execute_result"
    }
   ],
   "source": [
    "y_pred = model.predict(X_train)\n",
    "print('TRAIN METRICS')\n",
    "print(f'Accuracy: {metrics.accuracy_score(y_train, y_pred)}')\n",
    "print(f'F1 Score: {metrics.f1_score(y_train, y_pred)}')\n",
    "metrics.confusion_matrix(y_train,y_pred)"
   ]
  },
  {
   "cell_type": "code",
   "execution_count": 305,
   "metadata": {},
   "outputs": [
    {
     "name": "stdout",
     "output_type": "stream",
     "text": [
      "              precision    recall  f1-score   support\n",
      "\n",
      "           0       0.88      0.64      0.74     95383\n",
      "           1       0.39      0.73      0.51     30005\n",
      "\n",
      "    accuracy                           0.66    125388\n",
      "   macro avg       0.64      0.69      0.63    125388\n",
      "weighted avg       0.76      0.66      0.69    125388\n",
      "\n"
     ]
    }
   ],
   "source": [
    "print(metrics.classification_report(y_train, y_pred))"
   ]
  },
  {
   "cell_type": "code",
   "execution_count": 306,
   "metadata": {},
   "outputs": [
    {
     "name": "stdout",
     "output_type": "stream",
     "text": [
      "TEST METRICS\n",
      "Accuracy: 0.6641785688652838\n",
      "F1 Score: 0.5061741424802111\n"
     ]
    },
    {
     "data": {
      "text/plain": [
       "array([[6856, 3781],\n",
       "       [ 898, 2398]], dtype=int64)"
      ]
     },
     "execution_count": 306,
     "metadata": {},
     "output_type": "execute_result"
    }
   ],
   "source": [
    "y_pred = model.predict(X_test)\n",
    "print('TEST METRICS')\n",
    "print(f'Accuracy: {metrics.accuracy_score(y_test, y_pred)}')\n",
    "print(f'F1 Score: {metrics.f1_score(y_test, y_pred)}')\n",
    "metrics.confusion_matrix(y_test,y_pred)"
   ]
  },
  {
   "cell_type": "code",
   "execution_count": 307,
   "metadata": {},
   "outputs": [
    {
     "name": "stdout",
     "output_type": "stream",
     "text": [
      "              precision    recall  f1-score   support\n",
      "\n",
      "           0       0.88      0.64      0.75     10637\n",
      "           1       0.39      0.73      0.51      3296\n",
      "\n",
      "    accuracy                           0.66     13933\n",
      "   macro avg       0.64      0.69      0.63     13933\n",
      "weighted avg       0.77      0.66      0.69     13933\n",
      "\n"
     ]
    }
   ],
   "source": [
    "print(metrics.classification_report(y_test, y_pred))"
   ]
  },
  {
   "cell_type": "markdown",
   "metadata": {},
   "source": [
    "STOCHASTIC GRADIENT DESCENT"
   ]
  },
  {
   "cell_type": "code",
   "execution_count": 204,
   "metadata": {},
   "outputs": [
    {
     "data": {
      "text/plain": [
       "SGDClassifier(alpha=0.0001, average=False, class_weight='balanced',\n",
       "              early_stopping=False, epsilon=0.1, eta0=0.0, fit_intercept=True,\n",
       "              l1_ratio=0.15, learning_rate='optimal', loss='hinge',\n",
       "              max_iter=1000, n_iter_no_change=5, n_jobs=None, penalty='l2',\n",
       "              power_t=0.5, random_state=None, shuffle=True, tol=0.001,\n",
       "              validation_fraction=0.1, verbose=0, warm_start=False)"
      ]
     },
     "execution_count": 204,
     "metadata": {},
     "output_type": "execute_result"
    }
   ],
   "source": [
    "model = SGDClassifier(class_weight='balanced')\n",
    "model.fit(X_train, y_train)"
   ]
  },
  {
   "cell_type": "code",
   "execution_count": 205,
   "metadata": {},
   "outputs": [
    {
     "name": "stdout",
     "output_type": "stream",
     "text": [
      "TRAIN METRICS\n",
      "Accuracy: 0.6949389096245254\n",
      "F1 Score: 0.7061209751150516\n"
     ]
    },
    {
     "data": {
      "text/plain": [
       "array([[41183, 26900],\n",
       "       [11351, 45954]], dtype=int64)"
      ]
     },
     "execution_count": 205,
     "metadata": {},
     "output_type": "execute_result"
    }
   ],
   "source": [
    "y_pred = model.predict(X_train)\n",
    "print('TRAIN METRICS')\n",
    "print(f'Accuracy: {metrics.accuracy_score(y_train, y_pred)}')\n",
    "print(f'F1 Score: {metrics.f1_score(y_train, y_pred)}')\n",
    "metrics.confusion_matrix(y_train,y_pred)"
   ]
  },
  {
   "cell_type": "code",
   "execution_count": 206,
   "metadata": {},
   "outputs": [
    {
     "name": "stdout",
     "output_type": "stream",
     "text": [
      "TEST METRICS\n",
      "Accuracy: 0.6887963826885811\n",
      "F1 Score: 0.7003041194359968\n"
     ]
    },
    {
     "data": {
      "text/plain": [
       "array([[4531, 3067],\n",
       "       [1269, 5066]], dtype=int64)"
      ]
     },
     "execution_count": 206,
     "metadata": {},
     "output_type": "execute_result"
    }
   ],
   "source": [
    "y_pred = model.predict(X_test)\n",
    "print('TEST METRICS')\n",
    "print(f'Accuracy: {metrics.accuracy_score(y_test, y_pred)}')\n",
    "print(f'F1 Score: {metrics.f1_score(y_test, y_pred)}')\n",
    "metrics.confusion_matrix(y_test,y_pred)"
   ]
  },
  {
   "cell_type": "code",
   "execution_count": null,
   "metadata": {},
   "outputs": [],
   "source": []
  },
  {
   "cell_type": "code",
   "execution_count": null,
   "metadata": {},
   "outputs": [],
   "source": []
  },
  {
   "cell_type": "markdown",
   "metadata": {},
   "source": [
    "XGBCLASSIFIER"
   ]
  },
  {
   "cell_type": "code",
   "execution_count": 150,
   "metadata": {},
   "outputs": [
    {
     "data": {
      "text/plain": [
       "3.128414478139815"
      ]
     },
     "execution_count": 150,
     "metadata": {},
     "output_type": "execute_result"
    }
   ],
   "source": [
    "len([i for i in y_train if i == 0]) / len([i for i in y_train if i == 1])"
   ]
  },
  {
   "cell_type": "code",
   "execution_count": 294,
   "metadata": {},
   "outputs": [
    {
     "data": {
      "text/plain": [
       "XGBClassifier(base_score=0.5, booster='gbtree', colsample_bylevel=1,\n",
       "              colsample_bynode=1, colsample_bytree=1, gamma=65, gpu_id=-1,\n",
       "              importance_type='gain', interaction_constraints='',\n",
       "              learning_rate=0.300000012, max_delta_step=0, max_depth=6,\n",
       "              min_child_weight=50, missing=nan, monotone_constraints='()',\n",
       "              n_estimators=100, n_jobs=0, num_parallel_tree=1,\n",
       "              objective='binary:logistic', random_state=0, reg_alpha=0,\n",
       "              reg_lambda=1, scale_pos_weight=2.5, subsample=1,\n",
       "              tree_method='exact', validate_parameters=1, verbosity=None)"
      ]
     },
     "execution_count": 294,
     "metadata": {},
     "output_type": "execute_result"
    }
   ],
   "source": [
    "model = XGBClassifier(scale_pos_weight=2.5, booster='gbtree', gamma=65, min_child_weight=50)\n",
    "model.fit(X_train, y_train)"
   ]
  },
  {
   "cell_type": "code",
   "execution_count": 295,
   "metadata": {},
   "outputs": [
    {
     "name": "stdout",
     "output_type": "stream",
     "text": [
      "TRAIN METRICS\n",
      "Accuracy: 0.763932752735509\n",
      "F1 Score: 0.6022681465158153\n"
     ]
    },
    {
     "data": {
      "text/plain": [
       "array([[73377, 22006],\n",
       "       [ 7594, 22411]], dtype=int64)"
      ]
     },
     "execution_count": 295,
     "metadata": {},
     "output_type": "execute_result"
    }
   ],
   "source": [
    "y_pred = model.predict(X_train)\n",
    "print('TRAIN METRICS')\n",
    "print(f'Accuracy: {metrics.accuracy_score(y_train, y_pred)}')\n",
    "print(f'F1 Score: {metrics.f1_score(y_train, y_pred)}')\n",
    "metrics.confusion_matrix(y_train,y_pred)"
   ]
  },
  {
   "cell_type": "code",
   "execution_count": 296,
   "metadata": {},
   "outputs": [
    {
     "name": "stdout",
     "output_type": "stream",
     "text": [
      "              precision    recall  f1-score   support\n",
      "\n",
      "           0       0.91      0.77      0.83     95383\n",
      "           1       0.50      0.75      0.60     30005\n",
      "\n",
      "    accuracy                           0.76    125388\n",
      "   macro avg       0.71      0.76      0.72    125388\n",
      "weighted avg       0.81      0.76      0.78    125388\n",
      "\n"
     ]
    }
   ],
   "source": [
    "print(metrics.classification_report(y_train, y_pred))"
   ]
  },
  {
   "cell_type": "code",
   "execution_count": 297,
   "metadata": {},
   "outputs": [
    {
     "data": {
      "text/plain": [
       "0.43742363973360326"
      ]
     },
     "execution_count": 297,
     "metadata": {},
     "output_type": "execute_result"
    }
   ],
   "source": [
    "metrics.average_precision_score(y_train,y_pred)"
   ]
  },
  {
   "cell_type": "code",
   "execution_count": 298,
   "metadata": {},
   "outputs": [
    {
     "data": {
      "text/plain": [
       "0.7053862004307303"
      ]
     },
     "execution_count": 298,
     "metadata": {},
     "output_type": "execute_result"
    }
   ],
   "source": [
    "metrics.roc_auc_score(y_pred,y_train)"
   ]
  },
  {
   "cell_type": "code",
   "execution_count": 299,
   "metadata": {},
   "outputs": [
    {
     "name": "stdout",
     "output_type": "stream",
     "text": [
      "TEST METRICS\n",
      "Accuracy: 0.7561185674298428\n",
      "F1 Score: 0.5835784313725491\n"
     ]
    },
    {
     "data": {
      "text/plain": [
       "array([[8154, 2483],\n",
       "       [ 915, 2381]], dtype=int64)"
      ]
     },
     "execution_count": 299,
     "metadata": {},
     "output_type": "execute_result"
    }
   ],
   "source": [
    "y_pred = model.predict(X_test)\n",
    "print('TEST METRICS')\n",
    "print(f'Accuracy: {metrics.accuracy_score(y_test, y_pred)}')\n",
    "print(f'F1 Score: {metrics.f1_score(y_test, y_pred)}')\n",
    "metrics.confusion_matrix(y_test,y_pred)"
   ]
  },
  {
   "cell_type": "code",
   "execution_count": 300,
   "metadata": {},
   "outputs": [
    {
     "name": "stdout",
     "output_type": "stream",
     "text": [
      "              precision    recall  f1-score   support\n",
      "\n",
      "           0       0.90      0.77      0.83     10637\n",
      "           1       0.49      0.72      0.58      3296\n",
      "\n",
      "    accuracy                           0.76     13933\n",
      "   macro avg       0.69      0.74      0.71     13933\n",
      "weighted avg       0.80      0.76      0.77     13933\n",
      "\n"
     ]
    }
   ],
   "source": [
    "print(metrics.classification_report(y_test, y_pred))"
   ]
  },
  {
   "cell_type": "code",
   "execution_count": 301,
   "metadata": {},
   "outputs": [
    {
     "data": {
      "text/plain": [
       "0.4192924060248118"
      ]
     },
     "execution_count": 301,
     "metadata": {},
     "output_type": "execute_result"
    }
   ],
   "source": [
    "metrics.average_precision_score(y_test,y_pred)"
   ]
  },
  {
   "cell_type": "code",
   "execution_count": 302,
   "metadata": {},
   "outputs": [
    {
     "data": {
      "text/plain": [
       "0.6943108250670299"
      ]
     },
     "execution_count": 302,
     "metadata": {},
     "output_type": "execute_result"
    }
   ],
   "source": [
    "metrics.roc_auc_score(y_pred,y_test)"
   ]
  },
  {
   "cell_type": "code",
   "execution_count": 239,
   "metadata": {},
   "outputs": [
    {
     "data": {
      "text/plain": [
       "<matplotlib.axes._subplots.AxesSubplot at 0x2719a8c8048>"
      ]
     },
     "execution_count": 239,
     "metadata": {},
     "output_type": "execute_result"
    },
    {
     "data": {
      "image/png": "[encoded data removed]",
      "text/plain": [
       "<Figure size 432x288 with 1 Axes>"
      ]
     },
     "metadata": {
      "needs_background": "light"
     },
     "output_type": "display_data"
    }
   ],
   "source": [
    "from xgboost import plot_importance\n",
    "plot_importance(model.get_booster())"
   ]
  },
  {
   "cell_type": "code",
   "execution_count": 240,
   "metadata": {},
   "outputs": [
    {
     "data": {
      "text/html": [
       "<div>\n",
       "<style scoped>\n",
       "    .dataframe tbody tr th:only-of-type {\n",
       "        vertical-align: middle;\n",
       "    }\n",
       "\n",
       "    .dataframe tbody tr th {\n",
       "        vertical-align: top;\n",
       "    }\n",
       "\n",
       "    .dataframe thead th {\n",
       "        text-align: right;\n",
       "    }\n",
       "</style>\n",
       "<table border=\"1\" class=\"dataframe\">\n",
       "  <thead>\n",
       "    <tr style=\"text-align: right;\">\n",
       "      <th></th>\n",
       "      <th>0</th>\n",
       "    </tr>\n",
       "  </thead>\n",
       "  <tbody>\n",
       "    <tr>\n",
       "      <td>0</td>\n",
       "      <td>distance1_2_x</td>\n",
       "    </tr>\n",
       "    <tr>\n",
       "      <td>1</td>\n",
       "      <td>distance3_4_x</td>\n",
       "    </tr>\n",
       "    <tr>\n",
       "      <td>2</td>\n",
       "      <td>cluster_B_x</td>\n",
       "    </tr>\n",
       "    <tr>\n",
       "      <td>3</td>\n",
       "      <td>cluster_C_x</td>\n",
       "    </tr>\n",
       "    <tr>\n",
       "      <td>4</td>\n",
       "      <td>cluster_D_x</td>\n",
       "    </tr>\n",
       "    <tr>\n",
       "      <td>5</td>\n",
       "      <td>distance1_2_y</td>\n",
       "    </tr>\n",
       "    <tr>\n",
       "      <td>6</td>\n",
       "      <td>distance3_4_y</td>\n",
       "    </tr>\n",
       "    <tr>\n",
       "      <td>7</td>\n",
       "      <td>cluster_B_y</td>\n",
       "    </tr>\n",
       "    <tr>\n",
       "      <td>8</td>\n",
       "      <td>cluster_C_y</td>\n",
       "    </tr>\n",
       "    <tr>\n",
       "      <td>9</td>\n",
       "      <td>cluster_D_y</td>\n",
       "    </tr>\n",
       "    <tr>\n",
       "      <td>10</td>\n",
       "      <td>agility_y</td>\n",
       "    </tr>\n",
       "    <tr>\n",
       "      <td>11</td>\n",
       "      <td>landing_risk1</td>\n",
       "    </tr>\n",
       "    <tr>\n",
       "      <td>12</td>\n",
       "      <td>landing_risk4</td>\n",
       "    </tr>\n",
       "    <tr>\n",
       "      <td>13</td>\n",
       "      <td>risk1</td>\n",
       "    </tr>\n",
       "    <tr>\n",
       "      <td>14</td>\n",
       "      <td>risk4</td>\n",
       "    </tr>\n",
       "    <tr>\n",
       "      <td>15</td>\n",
       "      <td>risk_int1</td>\n",
       "    </tr>\n",
       "    <tr>\n",
       "      <td>16</td>\n",
       "      <td>risk_int4</td>\n",
       "    </tr>\n",
       "    <tr>\n",
       "      <td>17</td>\n",
       "      <td>distance_ctrl</td>\n",
       "    </tr>\n",
       "    <tr>\n",
       "      <td>18</td>\n",
       "      <td>cluster_ctrl</td>\n",
       "    </tr>\n",
       "    <tr>\n",
       "      <td>19</td>\n",
       "      <td>risk_ctrl</td>\n",
       "    </tr>\n",
       "    <tr>\n",
       "      <td>20</td>\n",
       "      <td>agi_ctrl</td>\n",
       "    </tr>\n",
       "    <tr>\n",
       "      <td>21</td>\n",
       "      <td>exp</td>\n",
       "    </tr>\n",
       "  </tbody>\n",
       "</table>\n",
       "</div>"
      ],
      "text/plain": [
       "                0\n",
       "0   distance1_2_x\n",
       "1   distance3_4_x\n",
       "2     cluster_B_x\n",
       "3     cluster_C_x\n",
       "4     cluster_D_x\n",
       "5   distance1_2_y\n",
       "6   distance3_4_y\n",
       "7     cluster_B_y\n",
       "8     cluster_C_y\n",
       "9     cluster_D_y\n",
       "10      agility_y\n",
       "11  landing_risk1\n",
       "12  landing_risk4\n",
       "13          risk1\n",
       "14          risk4\n",
       "15      risk_int1\n",
       "16      risk_int4\n",
       "17  distance_ctrl\n",
       "18   cluster_ctrl\n",
       "19      risk_ctrl\n",
       "20       agi_ctrl\n",
       "21            exp"
      ]
     },
     "execution_count": 240,
     "metadata": {},
     "output_type": "execute_result"
    }
   ],
   "source": [
    "pd.DataFrame(X.columns)"
   ]
  },
  {
   "cell_type": "code",
   "execution_count": null,
   "metadata": {},
   "outputs": [],
   "source": []
  }
 ],
 "metadata": {
  "kernelspec": {
   "display_name": "Python 3",
   "language": "python",
   "name": "python3"
  },
  "language_info": {
   "codemirror_mode": {
    "name": "ipython",
    "version": 3
   },
   "file_extension": ".py",
   "mimetype": "text/x-python",
   "name": "python",
   "nbconvert_exporter": "python",
   "pygments_lexer": "ipython3",
   "version": "3.7.4"
  }
 },
 "nbformat": 4,
 "nbformat_minor": 2
}
